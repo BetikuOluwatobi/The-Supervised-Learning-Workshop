{
  "nbformat": 4,
  "nbformat_minor": 0,
  "metadata": {
    "colab": {
      "name": "Untitled46.ipynb",
      "provenance": []
    },
    "kernelspec": {
      "name": "python3",
      "display_name": "Python 3"
    }
  },
  "cells": [
    {
      "cell_type": "code",
      "metadata": {
        "id": "coNMjjigyGvl",
        "colab_type": "code",
        "colab": {}
      },
      "source": [
        "import pandas as pd\n",
        "import numpy as np\n",
        "\n",
        "%matplotlib inline\n",
        "import matplotlib.pyplot as plt\n",
        "\n",
        "from sklearn.model_selection import train_test_split\n",
        "from sklearn.metrics import accuracy_score\n",
        "from sklearn.model_selection import KFold"
      ],
      "execution_count": 0,
      "outputs": []
    },
    {
      "cell_type": "code",
      "metadata": {
        "id": "gp2yo5Q_yHkV",
        "colab_type": "code",
        "colab": {
          "base_uri": "https://localhost:8080/",
          "height": 204
        },
        "outputId": "97e294d1-5338-4975-9d76-f8ecfb940775"
      },
      "source": [
        "data = pd.read_csv('titanic.csv')\n",
        "data.head()"
      ],
      "execution_count": 4,
      "outputs": [
        {
          "output_type": "execute_result",
          "data": {
            "text/html": [
              "<div>\n",
              "<style scoped>\n",
              "    .dataframe tbody tr th:only-of-type {\n",
              "        vertical-align: middle;\n",
              "    }\n",
              "\n",
              "    .dataframe tbody tr th {\n",
              "        vertical-align: top;\n",
              "    }\n",
              "\n",
              "    .dataframe thead th {\n",
              "        text-align: right;\n",
              "    }\n",
              "</style>\n",
              "<table border=\"1\" class=\"dataframe\">\n",
              "  <thead>\n",
              "    <tr style=\"text-align: right;\">\n",
              "      <th></th>\n",
              "      <th>PassengerId</th>\n",
              "      <th>Survived</th>\n",
              "      <th>Pclass</th>\n",
              "      <th>Name</th>\n",
              "      <th>Gender</th>\n",
              "      <th>Age</th>\n",
              "      <th>SibSp</th>\n",
              "      <th>Parch</th>\n",
              "      <th>Ticket</th>\n",
              "      <th>Fare</th>\n",
              "      <th>Cabin</th>\n",
              "      <th>Embarked</th>\n",
              "    </tr>\n",
              "  </thead>\n",
              "  <tbody>\n",
              "    <tr>\n",
              "      <th>0</th>\n",
              "      <td>1</td>\n",
              "      <td>0</td>\n",
              "      <td>3</td>\n",
              "      <td>Braund, Mr. Owen Harris</td>\n",
              "      <td>male</td>\n",
              "      <td>22.0</td>\n",
              "      <td>1</td>\n",
              "      <td>0</td>\n",
              "      <td>A/5 21171</td>\n",
              "      <td>7.2500</td>\n",
              "      <td>NaN</td>\n",
              "      <td>S</td>\n",
              "    </tr>\n",
              "    <tr>\n",
              "      <th>1</th>\n",
              "      <td>2</td>\n",
              "      <td>1</td>\n",
              "      <td>1</td>\n",
              "      <td>Cumings, Mrs. John Bradley (Florence Briggs Th...</td>\n",
              "      <td>female</td>\n",
              "      <td>38.0</td>\n",
              "      <td>1</td>\n",
              "      <td>0</td>\n",
              "      <td>PC 17599</td>\n",
              "      <td>71.2833</td>\n",
              "      <td>C85</td>\n",
              "      <td>C</td>\n",
              "    </tr>\n",
              "    <tr>\n",
              "      <th>2</th>\n",
              "      <td>3</td>\n",
              "      <td>1</td>\n",
              "      <td>3</td>\n",
              "      <td>Heikkinen, Miss. Laina</td>\n",
              "      <td>female</td>\n",
              "      <td>26.0</td>\n",
              "      <td>0</td>\n",
              "      <td>0</td>\n",
              "      <td>STON/O2. 3101282</td>\n",
              "      <td>7.9250</td>\n",
              "      <td>NaN</td>\n",
              "      <td>S</td>\n",
              "    </tr>\n",
              "    <tr>\n",
              "      <th>3</th>\n",
              "      <td>4</td>\n",
              "      <td>1</td>\n",
              "      <td>1</td>\n",
              "      <td>Futrelle, Mrs. Jacques Heath (Lily May Peel)</td>\n",
              "      <td>female</td>\n",
              "      <td>35.0</td>\n",
              "      <td>1</td>\n",
              "      <td>0</td>\n",
              "      <td>113803</td>\n",
              "      <td>53.1000</td>\n",
              "      <td>C123</td>\n",
              "      <td>S</td>\n",
              "    </tr>\n",
              "    <tr>\n",
              "      <th>4</th>\n",
              "      <td>5</td>\n",
              "      <td>0</td>\n",
              "      <td>3</td>\n",
              "      <td>Allen, Mr. William Henry</td>\n",
              "      <td>male</td>\n",
              "      <td>35.0</td>\n",
              "      <td>0</td>\n",
              "      <td>0</td>\n",
              "      <td>373450</td>\n",
              "      <td>8.0500</td>\n",
              "      <td>NaN</td>\n",
              "      <td>S</td>\n",
              "    </tr>\n",
              "  </tbody>\n",
              "</table>\n",
              "</div>"
            ],
            "text/plain": [
              "   PassengerId  Survived  Pclass  ...     Fare Cabin  Embarked\n",
              "0            1         0       3  ...   7.2500   NaN         S\n",
              "1            2         1       1  ...  71.2833   C85         C\n",
              "2            3         1       3  ...   7.9250   NaN         S\n",
              "3            4         1       1  ...  53.1000  C123         S\n",
              "4            5         0       3  ...   8.0500   NaN         S\n",
              "\n",
              "[5 rows x 12 columns]"
            ]
          },
          "metadata": {
            "tags": []
          },
          "execution_count": 4
        }
      ]
    },
    {
      "cell_type": "code",
      "metadata": {
        "id": "YC4_st3ryVFU",
        "colab_type": "code",
        "colab": {}
      },
      "source": [
        "def preprocess(data):\n",
        "    def fix_age(age):\n",
        "        if np.isnan(age):\n",
        "            return -1\n",
        "        else:\n",
        "            return age\n",
        "    \n",
        "    data.loc[:, 'Gender'] = data.Gender.apply(lambda s: int(s == 'female'))\n",
        "    data.loc[:, 'Age'] = data.Age.apply(fix_age)\n",
        "    \n",
        "    embarked = pd.get_dummies(data.Embarked, prefix='Emb')[['Emb_C','Emb_Q','Emb_S']]\n",
        "    cols = ['Pclass','Gender','Age','SibSp','Parch','Fare']\n",
        "    \n",
        "    return pd.concat([data[cols], embarked], axis=1).values"
      ],
      "execution_count": 0,
      "outputs": []
    },
    {
      "cell_type": "code",
      "metadata": {
        "id": "nQTTwHmsyV00",
        "colab_type": "code",
        "colab": {
          "base_uri": "https://localhost:8080/",
          "height": 187
        },
        "outputId": "d273ac86-6346-429b-bd4c-d3b592fca82a"
      },
      "source": [
        "train, val = train_test_split(data, test_size=0.2, random_state=11)\n",
        "\n",
        "x_train = preprocess(train)\n",
        "y_train = train['Survived'].values\n",
        "\n",
        "x_val = preprocess(val)\n",
        "y_val = val['Survived'].values\n",
        "\n",
        "print(x_train.shape)\n",
        "print(y_train.shape)\n",
        "print(x_val.shape)\n",
        "print(y_val.shape)"
      ],
      "execution_count": 6,
      "outputs": [
        {
          "output_type": "stream",
          "text": [
            "(712, 9)\n",
            "(712,)\n",
            "(179, 9)\n",
            "(179,)\n"
          ],
          "name": "stdout"
        },
        {
          "output_type": "stream",
          "text": [
            "/usr/local/lib/python3.6/dist-packages/pandas/core/indexing.py:494: SettingWithCopyWarning: \n",
            "A value is trying to be set on a copy of a slice from a DataFrame.\n",
            "Try using .loc[row_indexer,col_indexer] = value instead\n",
            "\n",
            "See the caveats in the documentation: http://pandas.pydata.org/pandas-docs/stable/user_guide/indexing.html#returning-a-view-versus-a-copy\n",
            "  self.obj[item] = s\n"
          ],
          "name": "stderr"
        }
      ]
    },
    {
      "cell_type": "code",
      "metadata": {
        "id": "Fx2OWI9cy49q",
        "colab_type": "code",
        "colab": {}
      },
      "source": [
        "from sklearn.tree import DecisionTreeClassifier\n",
        "from sklearn.ensemble import BaggingClassifier"
      ],
      "execution_count": 0,
      "outputs": []
    },
    {
      "cell_type": "code",
      "metadata": {
        "id": "cjh5k0T9y8UR",
        "colab_type": "code",
        "colab": {}
      },
      "source": [
        "dt_params = {\n",
        "    'criterion': 'entropy',\n",
        "    'random_state': 11\n",
        "}\n",
        "dt = DecisionTreeClassifier(**dt_params)\n",
        "\n",
        "bc_params = {\n",
        "    'base_estimator': dt,\n",
        "    'n_estimators': 50,\n",
        "    'max_samples': 0.5,\n",
        "    'random_state': 11,\n",
        "    'n_jobs': -1\n",
        "}\n",
        "bc = BaggingClassifier(**bc_params)"
      ],
      "execution_count": 0,
      "outputs": []
    },
    {
      "cell_type": "code",
      "metadata": {
        "id": "ikwJujMly-N7",
        "colab_type": "code",
        "colab": {
          "base_uri": "https://localhost:8080/",
          "height": 68
        },
        "outputId": "8073d499-da17-4606-e02d-32f2d4c305ef"
      },
      "source": [
        "bc.fit(x_train, y_train)\n",
        "bc_preds_train = bc.predict(x_train)\n",
        "bc_preds_val = bc.predict(x_val)\n",
        "\n",
        "print('Bagging Classifier:\\n> Accuracy on training data = {:.4f}\\n> Accuracy on validation data = {:.4f}'.format(\n",
        "    accuracy_score(y_true=y_train, y_pred=bc_preds_train),\n",
        "    accuracy_score(y_true=y_val, y_pred=bc_preds_val)\n",
        "))"
      ],
      "execution_count": 9,
      "outputs": [
        {
          "output_type": "stream",
          "text": [
            "Bagging Classifier:\n",
            "> Accuracy on training data = 0.9270\n",
            "> Accuracy on validation data = 0.8659\n"
          ],
          "name": "stdout"
        }
      ]
    },
    {
      "cell_type": "code",
      "metadata": {
        "id": "JPOAHGUAzBrC",
        "colab_type": "code",
        "colab": {
          "base_uri": "https://localhost:8080/",
          "height": 68
        },
        "outputId": "4824bc53-2522-42e4-dc1b-bae4e4347d48"
      },
      "source": [
        "dt.fit(x_train, y_train)\n",
        "dt_preds_train = dt.predict(x_train)\n",
        "dt_preds_val = dt.predict(x_val)\n",
        "\n",
        "print('Decision Tree:\\n> Accuracy on training data = {:.4f}\\n> Accuracy on validation data = {:.4f}'.format(\n",
        "    accuracy_score(y_true=y_train, y_pred=dt_preds_train),\n",
        "    accuracy_score(y_true=y_val, y_pred=dt_preds_val)\n",
        "))\n"
      ],
      "execution_count": 10,
      "outputs": [
        {
          "output_type": "stream",
          "text": [
            "Decision Tree:\n",
            "> Accuracy on training data = 0.9831\n",
            "> Accuracy on validation data = 0.7709\n"
          ],
          "name": "stdout"
        }
      ]
    },
    {
      "cell_type": "code",
      "metadata": {
        "id": "Scb5r4GAzKfT",
        "colab_type": "code",
        "colab": {}
      },
      "source": [
        "from sklearn.ensemble import RandomForestClassifier"
      ],
      "execution_count": 0,
      "outputs": []
    },
    {
      "cell_type": "code",
      "metadata": {
        "id": "SqFjkUePzN3J",
        "colab_type": "code",
        "colab": {}
      },
      "source": [
        "rf_params = {\n",
        "    'n_estimators': 100,\n",
        "    'criterion': 'entropy',\n",
        "    'max_features': 0.5,\n",
        "    'min_samples_leaf': 10,\n",
        "    'random_state': 11,\n",
        "    'n_jobs': -1\n",
        "}\n",
        "rf = RandomForestClassifier(**rf_params)"
      ],
      "execution_count": 0,
      "outputs": []
    },
    {
      "cell_type": "code",
      "metadata": {
        "id": "5fgZLx84zP8R",
        "colab_type": "code",
        "colab": {
          "base_uri": "https://localhost:8080/",
          "height": 68
        },
        "outputId": "0c4504e3-3330-4e65-a1c7-2d60fa94e296"
      },
      "source": [
        "rf.fit(x_train, y_train)\n",
        "rf_preds_train = rf.predict(x_train)\n",
        "rf_preds_val = rf.predict(x_val)\n",
        "\n",
        "print('Random Forest:\\n> Accuracy on training data = {:.4f}\\n> Accuracy on validation data = {:.4f}'.format(\n",
        "    accuracy_score(y_true=y_train, y_pred=rf_preds_train),\n",
        "    accuracy_score(y_true=y_val, y_pred=rf_preds_val)\n",
        "))"
      ],
      "execution_count": 13,
      "outputs": [
        {
          "output_type": "stream",
          "text": [
            "Random Forest:\n",
            "> Accuracy on training data = 0.8385\n",
            "> Accuracy on validation data = 0.8771\n"
          ],
          "name": "stdout"
        }
      ]
    },
    {
      "cell_type": "code",
      "metadata": {
        "id": "QAc1gVmIzZHJ",
        "colab_type": "code",
        "colab": {}
      },
      "source": [
        "from sklearn.ensemble import AdaBoostClassifier"
      ],
      "execution_count": 0,
      "outputs": []
    },
    {
      "cell_type": "code",
      "metadata": {
        "id": "6mdVRNZ5zbd2",
        "colab_type": "code",
        "colab": {}
      },
      "source": [
        "dt_params = {\n",
        "    'max_depth': 1,\n",
        "    'random_state': 11\n",
        "}\n",
        "dt = DecisionTreeClassifier(**dt_params)\n",
        "\n",
        "ab_params = {\n",
        "    'n_estimators': 100,\n",
        "    'base_estimator': dt,\n",
        "    'random_state': 11\n",
        "}\n",
        "ab = AdaBoostClassifier(**ab_params)"
      ],
      "execution_count": 0,
      "outputs": []
    },
    {
      "cell_type": "code",
      "metadata": {
        "id": "t1HfF8DGzeiS",
        "colab_type": "code",
        "colab": {
          "base_uri": "https://localhost:8080/",
          "height": 68
        },
        "outputId": "197cc6bc-f6a1-4d49-c832-85b8f84fce65"
      },
      "source": [
        "ab.fit(x_train, y_train)\n",
        "ab_preds_train = ab.predict(x_train)\n",
        "ab_preds_val = ab.predict(x_val)\n",
        "\n",
        "print('Adaptive Boosting:\\n> Accuracy on training data = {:.4f}\\n> Accuracy on validation data = {:.4f}'.format(\n",
        "    accuracy_score(y_true=y_train, y_pred=ab_preds_train),\n",
        "    accuracy_score(y_true=y_val, y_pred=ab_preds_val)\n",
        "))"
      ],
      "execution_count": 16,
      "outputs": [
        {
          "output_type": "stream",
          "text": [
            "Adaptive Boosting:\n",
            "> Accuracy on training data = 0.8272\n",
            "> Accuracy on validation data = 0.8547\n"
          ],
          "name": "stdout"
        }
      ]
    },
    {
      "cell_type": "code",
      "metadata": {
        "id": "rGtGIYQg0CHB",
        "colab_type": "code",
        "colab": {}
      },
      "source": [
        "ab_params = {\n",
        "    'base_estimator': dt,\n",
        "    'random_state': 11\n",
        "}\n",
        "\n",
        "n_estimator_values = list(range(10, 210, 10))\n",
        "train_accuracies, val_accuracies = [], []\n",
        "\n",
        "for n_estimators in n_estimator_values:\n",
        "    ab = AdaBoostClassifier(n_estimators=n_estimators, **ab_params)\n",
        "    ab.fit(x_train, y_train)\n",
        "    ab_preds_train = ab.predict(x_train)\n",
        "    ab_preds_val = ab.predict(x_val)\n",
        "    \n",
        "    train_accuracies.append(accuracy_score(y_true=y_train, y_pred=ab_preds_train))\n",
        "    val_accuracies.append(accuracy_score(y_true=y_val, y_pred=ab_preds_val))"
      ],
      "execution_count": 0,
      "outputs": []
    },
    {
      "cell_type": "code",
      "metadata": {
        "id": "hCUkdrWX0E3J",
        "colab_type": "code",
        "colab": {
          "base_uri": "https://localhost:8080/",
          "height": 443
        },
        "outputId": "30c590f4-40fc-4a44-b232-b1df2f5a0fa0"
      },
      "source": [
        "plt.figure(figsize=(10,7))\n",
        "plt.plot(n_estimator_values, train_accuracies, label='Train')\n",
        "plt.plot(n_estimator_values, val_accuracies, label='Validation')\n",
        "\n",
        "plt.ylabel('Accuracy score')\n",
        "plt.xlabel('n_estimators')\n",
        "\n",
        "plt.legend()\n",
        "plt.show()"
      ],
      "execution_count": 18,
      "outputs": [
        {
          "output_type": "display_data",
          "data": {
            "image/png": "[encoded data removed]",
            "text/plain": [
              "<Figure size 720x504 with 1 Axes>"
            ]
          },
          "metadata": {
            "tags": []
          }
        }
      ]
    },
    {
      "cell_type": "code",
      "metadata": {
        "id": "WJclrd0Z1UG0",
        "colab_type": "code",
        "colab": {}
      },
      "source": [
        "from sklearn.ensemble import GradientBoostingClassifier"
      ],
      "execution_count": 0,
      "outputs": []
    },
    {
      "cell_type": "code",
      "metadata": {
        "id": "EERJChmC1WUw",
        "colab_type": "code",
        "colab": {}
      },
      "source": [
        "gbc_params = {\n",
        "    'n_estimators': 100,\n",
        "    'max_depth': 3,\n",
        "    'min_samples_leaf': 5,\n",
        "    'random_state': 11\n",
        "}\n",
        "gbc = GradientBoostingClassifier(**gbc_params)"
      ],
      "execution_count": 0,
      "outputs": []
    },
    {
      "cell_type": "code",
      "metadata": {
        "id": "vYhu-oYq1ZLj",
        "colab_type": "code",
        "colab": {
          "base_uri": "https://localhost:8080/",
          "height": 68
        },
        "outputId": "3e0d1e2f-eb9e-4797-954a-4f75d212e078"
      },
      "source": [
        "gbc.fit(x_train, y_train)\n",
        "gbc_preds_train = gbc.predict(x_train)\n",
        "gbc_preds_val = gbc.predict(x_val)\n",
        "\n",
        "print('Gradient Boosting Classifier:\\n> Accuracy on training data = {:.4f}\\n> Accuracy on validation data = {:.4f}'.format(\n",
        "    accuracy_score(y_true=y_train, y_pred=gbc_preds_train),\n",
        "    accuracy_score(y_true=y_val, y_pred=gbc_preds_val)\n",
        "))"
      ],
      "execution_count": 21,
      "outputs": [
        {
          "output_type": "stream",
          "text": [
            "Gradient Boosting Classifier:\n",
            "> Accuracy on training data = 0.8961\n",
            "> Accuracy on validation data = 0.8771\n"
          ],
          "name": "stdout"
        }
      ]
    },
    {
      "cell_type": "code",
      "metadata": {
        "id": "dbOY66IB1iaK",
        "colab_type": "code",
        "colab": {}
      },
      "source": [
        "# Base models\n",
        "from sklearn.neighbors import KNeighborsClassifier\n",
        "from sklearn.svm import LinearSVC\n",
        "# Stacking model\n",
        "from sklearn.linear_model import LogisticRegression"
      ],
      "execution_count": 0,
      "outputs": []
    },
    {
      "cell_type": "code",
      "metadata": {
        "id": "U02gVXXt1kmE",
        "colab_type": "code",
        "colab": {
          "base_uri": "https://localhost:8080/",
          "height": 136
        },
        "outputId": "19eaeb77-fc8c-4fce-b712-4fb9619879a5"
      },
      "source": [
        "x_train_with_metapreds = np.zeros((x_train.shape[0], x_train.shape[1]+2))\n",
        "x_train_with_metapreds[:, :-2] = x_train\n",
        "x_train_with_metapreds[:, -2:] = -1\n",
        "print(x_train_with_metapreds)"
      ],
      "execution_count": 23,
      "outputs": [
        {
          "output_type": "stream",
          "text": [
            "[[ 3.  0. 16. ...  1. -1. -1.]\n",
            " [ 1.  0. 47. ...  1. -1. -1.]\n",
            " [ 3.  0. 32. ...  1. -1. -1.]\n",
            " ...\n",
            " [ 3.  0. 20. ...  1. -1. -1.]\n",
            " [ 3.  0. 22. ...  1. -1. -1.]\n",
            " [ 3.  0. 25. ...  0. -1. -1.]]\n"
          ],
          "name": "stdout"
        }
      ]
    },
    {
      "cell_type": "code",
      "metadata": {
        "id": "3_Mbk4F01olR",
        "colab_type": "code",
        "colab": {
          "base_uri": "https://localhost:8080/",
          "height": 241
        },
        "outputId": "869b2386-8347-4e11-8aa5-f299eee539ef"
      },
      "source": [
        "kf = KFold(n_splits=5, random_state=11)\n",
        "\n",
        "for train_indices, val_indices in kf.split(x_train):\n",
        "    kfold_x_train, kfold_x_val = x_train[train_indices], x_train[val_indices]\n",
        "    kfold_y_train, kfold_y_val = y_train[train_indices], y_train[val_indices]\n",
        "    \n",
        "    svm = LinearSVC(random_state=11, max_iter=1000)\n",
        "    svm.fit(kfold_x_train, kfold_y_train)\n",
        "    svm_pred = svm.predict(kfold_x_val)\n",
        "    \n",
        "    knn = KNeighborsClassifier(n_neighbors=4)\n",
        "    knn.fit(kfold_x_train, kfold_y_train)\n",
        "    knn_pred = knn.predict(kfold_x_val)\n",
        "    \n",
        "    x_train_with_metapreds[val_indices, -2] = svm_pred\n",
        "    x_train_with_metapreds[val_indices, -1] = knn_pred"
      ],
      "execution_count": 24,
      "outputs": [
        {
          "output_type": "stream",
          "text": [
            "/usr/local/lib/python3.6/dist-packages/sklearn/model_selection/_split.py:296: FutureWarning: Setting a random_state has no effect since shuffle is False. This will raise an error in 0.24. You should leave random_state to its default (None), or set shuffle=True.\n",
            "  FutureWarning\n",
            "/usr/local/lib/python3.6/dist-packages/sklearn/svm/_base.py:947: ConvergenceWarning: Liblinear failed to converge, increase the number of iterations.\n",
            "  \"the number of iterations.\", ConvergenceWarning)\n",
            "/usr/local/lib/python3.6/dist-packages/sklearn/svm/_base.py:947: ConvergenceWarning: Liblinear failed to converge, increase the number of iterations.\n",
            "  \"the number of iterations.\", ConvergenceWarning)\n",
            "/usr/local/lib/python3.6/dist-packages/sklearn/svm/_base.py:947: ConvergenceWarning: Liblinear failed to converge, increase the number of iterations.\n",
            "  \"the number of iterations.\", ConvergenceWarning)\n",
            "/usr/local/lib/python3.6/dist-packages/sklearn/svm/_base.py:947: ConvergenceWarning: Liblinear failed to converge, increase the number of iterations.\n",
            "  \"the number of iterations.\", ConvergenceWarning)\n",
            "/usr/local/lib/python3.6/dist-packages/sklearn/svm/_base.py:947: ConvergenceWarning: Liblinear failed to converge, increase the number of iterations.\n",
            "  \"the number of iterations.\", ConvergenceWarning)\n"
          ],
          "name": "stderr"
        }
      ]
    },
    {
      "cell_type": "code",
      "metadata": {
        "id": "RuaSYMf92rZh",
        "colab_type": "code",
        "colab": {
          "base_uri": "https://localhost:8080/",
          "height": 136
        },
        "outputId": "dadcdab7-afda-4da9-dda2-d8d04823eeb8"
      },
      "source": [
        "x_val_with_metapreds = np.zeros((x_val.shape[0], x_val.shape[1]+2))\n",
        "x_val_with_metapreds[:, :-2] = x_val\n",
        "x_val_with_metapreds[:, -2:] = -1\n",
        "print(x_val_with_metapreds)"
      ],
      "execution_count": 25,
      "outputs": [
        {
          "output_type": "stream",
          "text": [
            "[[ 3.  1. -1. ...  1. -1. -1.]\n",
            " [ 3.  0. 27. ...  1. -1. -1.]\n",
            " [ 3.  0. -1. ...  0. -1. -1.]\n",
            " ...\n",
            " [ 3.  0. 22. ...  1. -1. -1.]\n",
            " [ 1.  0. -1. ...  1. -1. -1.]\n",
            " [ 1.  0. 25. ...  0. -1. -1.]]\n"
          ],
          "name": "stdout"
        }
      ]
    },
    {
      "cell_type": "code",
      "metadata": {
        "id": "fLNW40aY2wMq",
        "colab_type": "code",
        "colab": {
          "base_uri": "https://localhost:8080/",
          "height": 51
        },
        "outputId": "d74d9ed4-0c3c-4298-fe29-1be50c028355"
      },
      "source": [
        "svm = LinearSVC(random_state=11, max_iter=1000)\n",
        "svm.fit(x_train, y_train)\n",
        "\n",
        "knn = KNeighborsClassifier(n_neighbors=4)\n",
        "knn.fit(x_train, y_train)\n",
        "\n",
        "svm_pred = svm.predict(x_val)\n",
        "knn_pred = knn.predict(x_val)\n",
        "\n",
        "x_val_with_metapreds[:, -2] = svm_pred\n",
        "x_val_with_metapreds[:, -1] = knn_pred"
      ],
      "execution_count": 26,
      "outputs": [
        {
          "output_type": "stream",
          "text": [
            "/usr/local/lib/python3.6/dist-packages/sklearn/svm/_base.py:947: ConvergenceWarning: Liblinear failed to converge, increase the number of iterations.\n",
            "  \"the number of iterations.\", ConvergenceWarning)\n"
          ],
          "name": "stderr"
        }
      ]
    },
    {
      "cell_type": "code",
      "metadata": {
        "id": "LF4yE0842y0C",
        "colab_type": "code",
        "colab": {
          "base_uri": "https://localhost:8080/",
          "height": 204
        },
        "outputId": "208af44e-3752-4e85-8a42-477c04e993ce"
      },
      "source": [
        "lr = LogisticRegression(random_state=11)\n",
        "lr.fit(x_train_with_metapreds, y_train)\n",
        "lr_preds_train = lr.predict(x_train_with_metapreds)\n",
        "lr_preds_val = lr.predict(x_val_with_metapreds)\n",
        "\n",
        "print('Stacked Classifier:\\n> Accuracy on training data = {:.4f}\\n> Accuracy on validation data = {:.4f}'.format(\n",
        "    accuracy_score(y_true=y_train, y_pred=lr_preds_train),\n",
        "    accuracy_score(y_true=y_val, y_pred=lr_preds_val)\n",
        "))"
      ],
      "execution_count": 27,
      "outputs": [
        {
          "output_type": "stream",
          "text": [
            "Stacked Classifier:\n",
            "> Accuracy on training data = 0.7907\n",
            "> Accuracy on validation data = 0.8492\n"
          ],
          "name": "stdout"
        },
        {
          "output_type": "stream",
          "text": [
            "/usr/local/lib/python3.6/dist-packages/sklearn/linear_model/_logistic.py:940: ConvergenceWarning: lbfgs failed to converge (status=1):\n",
            "STOP: TOTAL NO. of ITERATIONS REACHED LIMIT.\n",
            "\n",
            "Increase the number of iterations (max_iter) or scale the data as shown in:\n",
            "    https://scikit-learn.org/stable/modules/preprocessing.html\n",
            "Please also refer to the documentation for alternative solver options:\n",
            "    https://scikit-learn.org/stable/modules/linear_model.html#logistic-regression\n",
            "  extra_warning_msg=_LOGISTIC_SOLVER_CONVERGENCE_MSG)\n"
          ],
          "name": "stderr"
        }
      ]
    },
    {
      "cell_type": "code",
      "metadata": {
        "id": "PRJPWZFZ22Ba",
        "colab_type": "code",
        "colab": {
          "base_uri": "https://localhost:8080/",
          "height": 119
        },
        "outputId": "e9fa2920-b91e-4d96-c1ca-9fabcbade23e"
      },
      "source": [
        "# Comparing accuracy with that of base predictors\n",
        "\n",
        "print('SVM:\\n> Accuracy on training data = {:.4f}\\n> Accuracy on validation data = {:.4f}'.format(\n",
        "    accuracy_score(y_true=y_train, y_pred=svm.predict(x_train)),\n",
        "    accuracy_score(y_true=y_val, y_pred=svm_pred)\n",
        "))\n",
        "print('kNN:\\n> Accuracy on training data = {:.4f}\\n> Accuracy on validation data = {:.4f}'.format(\n",
        "    accuracy_score(y_true=y_train, y_pred=knn.predict(x_train)),\n",
        "    accuracy_score(y_true=y_val, y_pred=knn_pred)\n",
        "))"
      ],
      "execution_count": 28,
      "outputs": [
        {
          "output_type": "stream",
          "text": [
            "SVM:\n",
            "> Accuracy on training data = 0.6587\n",
            "> Accuracy on validation data = 0.7039\n",
            "kNN:\n",
            "> Accuracy on training data = 0.7921\n",
            "> Accuracy on validation data = 0.6816\n"
          ],
          "name": "stdout"
        }
      ]
    }
  ]
}