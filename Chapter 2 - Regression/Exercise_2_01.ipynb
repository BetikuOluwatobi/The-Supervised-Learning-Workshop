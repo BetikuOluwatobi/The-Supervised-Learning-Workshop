{
  "nbformat": 4,
  "nbformat_minor": 0,
  "metadata": {
    "colab": {
      "name": "Exercise 2.01.ipynb",
      "provenance": [],
      "collapsed_sections": []
    },
    "kernelspec": {
      "name": "python3",
      "display_name": "Python 3"
    }
  },
  "cells": [
    {
      "cell_type": "code",
      "metadata": {
        "id": "aUcSSVlSOGoA",
        "colab_type": "code",
        "colab": {}
      },
      "source": [
        "import pandas as pd\n",
        "import matplotlib.pyplot as plt\n",
        "import numpy as np"
      ],
      "execution_count": 0,
      "outputs": []
    },
    {
      "cell_type": "code",
      "metadata": {
        "id": "kDn9hp3dPX5G",
        "colab_type": "code",
        "colab": {}
      },
      "source": [
        "df = pd.read_csv('synth_temp.csv')"
      ],
      "execution_count": 0,
      "outputs": []
    },
    {
      "cell_type": "code",
      "metadata": {
        "id": "H8dxNg_xP7jO",
        "colab_type": "code",
        "outputId": "cbbce615-ca42-4d5b-fa2e-2bff6d66d4f5",
        "colab": {
          "base_uri": "https://localhost:8080/",
          "height": 204
        }
      },
      "source": [
        "df.head()"
      ],
      "execution_count": 0,
      "outputs": [
        {
          "output_type": "execute_result",
          "data": {
            "text/html": [
              "<div>\n",
              "<style scoped>\n",
              "    .dataframe tbody tr th:only-of-type {\n",
              "        vertical-align: middle;\n",
              "    }\n",
              "\n",
              "    .dataframe tbody tr th {\n",
              "        vertical-align: top;\n",
              "    }\n",
              "\n",
              "    .dataframe thead th {\n",
              "        text-align: right;\n",
              "    }\n",
              "</style>\n",
              "<table border=\"1\" class=\"dataframe\">\n",
              "  <thead>\n",
              "    <tr style=\"text-align: right;\">\n",
              "      <th></th>\n",
              "      <th>AverageTemperature</th>\n",
              "      <th>Year</th>\n",
              "    </tr>\n",
              "  </thead>\n",
              "  <tbody>\n",
              "    <tr>\n",
              "      <th>0</th>\n",
              "      <td>12.980258</td>\n",
              "      <td>1841</td>\n",
              "    </tr>\n",
              "    <tr>\n",
              "      <th>1</th>\n",
              "      <td>13.689697</td>\n",
              "      <td>1842</td>\n",
              "    </tr>\n",
              "    <tr>\n",
              "      <th>2</th>\n",
              "      <td>12.485703</td>\n",
              "      <td>1843</td>\n",
              "    </tr>\n",
              "    <tr>\n",
              "      <th>3</th>\n",
              "      <td>14.202069</td>\n",
              "      <td>1844</td>\n",
              "    </tr>\n",
              "    <tr>\n",
              "      <th>4</th>\n",
              "      <td>12.831530</td>\n",
              "      <td>1845</td>\n",
              "    </tr>\n",
              "  </tbody>\n",
              "</table>\n",
              "</div>"
            ],
            "text/plain": [
              "   AverageTemperature  Year\n",
              "0           12.980258  1841\n",
              "1           13.689697  1842\n",
              "2           12.485703  1843\n",
              "3           14.202069  1844\n",
              "4           12.831530  1845"
            ]
          },
          "metadata": {
            "tags": []
          },
          "execution_count": 7
        }
      ]
    },
    {
      "cell_type": "code",
      "metadata": {
        "id": "hBtKePSxQDOV",
        "colab_type": "code",
        "outputId": "2dcac0ab-1471-4c5f-df02-7fdbf94aaa85",
        "colab": {
          "base_uri": "https://localhost:8080/",
          "height": 204
        }
      },
      "source": [
        "df = df.loc[df.Year > 1901]\n",
        "df.head()"
      ],
      "execution_count": 0,
      "outputs": [
        {
          "output_type": "execute_result",
          "data": {
            "text/html": [
              "<div>\n",
              "<style scoped>\n",
              "    .dataframe tbody tr th:only-of-type {\n",
              "        vertical-align: middle;\n",
              "    }\n",
              "\n",
              "    .dataframe tbody tr th {\n",
              "        vertical-align: top;\n",
              "    }\n",
              "\n",
              "    .dataframe thead th {\n",
              "        text-align: right;\n",
              "    }\n",
              "</style>\n",
              "<table border=\"1\" class=\"dataframe\">\n",
              "  <thead>\n",
              "    <tr style=\"text-align: right;\">\n",
              "      <th></th>\n",
              "      <th>AverageTemperature</th>\n",
              "      <th>Year</th>\n",
              "    </tr>\n",
              "  </thead>\n",
              "  <tbody>\n",
              "    <tr>\n",
              "      <th>366</th>\n",
              "      <td>16.973653</td>\n",
              "      <td>1902</td>\n",
              "    </tr>\n",
              "    <tr>\n",
              "      <th>367</th>\n",
              "      <td>17.181773</td>\n",
              "      <td>1903</td>\n",
              "    </tr>\n",
              "    <tr>\n",
              "      <th>368</th>\n",
              "      <td>17.436933</td>\n",
              "      <td>1904</td>\n",
              "    </tr>\n",
              "    <tr>\n",
              "      <th>369</th>\n",
              "      <td>17.688948</td>\n",
              "      <td>1905</td>\n",
              "    </tr>\n",
              "    <tr>\n",
              "      <th>370</th>\n",
              "      <td>17.811166</td>\n",
              "      <td>1906</td>\n",
              "    </tr>\n",
              "  </tbody>\n",
              "</table>\n",
              "</div>"
            ],
            "text/plain": [
              "     AverageTemperature  Year\n",
              "366           16.973653  1902\n",
              "367           17.181773  1903\n",
              "368           17.436933  1904\n",
              "369           17.688948  1905\n",
              "370           17.811166  1906"
            ]
          },
          "metadata": {
            "tags": []
          },
          "execution_count": 8
        }
      ]
    },
    {
      "cell_type": "code",
      "metadata": {
        "id": "JjrL_hZYQdk9",
        "colab_type": "code",
        "outputId": "3b2d9b7e-f846-4ffe-ec6d-2c883d8d12cf",
        "colab": {
          "base_uri": "https://localhost:8080/",
          "height": 255
        }
      },
      "source": [
        "df_group_year = df.groupby('Year').agg(np.mean)\n",
        "print(df_group_year.head())\n",
        "print(df_group_year.tail())"
      ],
      "execution_count": 0,
      "outputs": [
        {
          "output_type": "stream",
          "text": [
            "      AverageTemperature\n",
            "Year                    \n",
            "1902           17.438122\n",
            "1903           17.375456\n",
            "1904           17.558674\n",
            "1905           17.740646\n",
            "1906           17.501770\n",
            "      AverageTemperature\n",
            "Year                    \n",
            "2006           19.827744\n",
            "2007           19.694244\n",
            "2008           19.793876\n",
            "2009           19.884571\n",
            "2010           19.903760\n"
          ],
          "name": "stdout"
        }
      ]
    },
    {
      "cell_type": "code",
      "metadata": {
        "id": "nNu3FA1KQ3RB",
        "colab_type": "code",
        "outputId": "6df6bb6e-8347-4d7d-af4d-1cabc90555bc",
        "colab": {
          "base_uri": "https://localhost:8080/",
          "height": 408
        }
      },
      "source": [
        "window = 10\n",
        "rolling = df_group_year.AverageTemperature.rolling(window).mean()\n",
        "print(rolling.head(14))\n",
        "print(rolling.tail())"
      ],
      "execution_count": 0,
      "outputs": [
        {
          "output_type": "stream",
          "text": [
            "Year\n",
            "1902          NaN\n",
            "1903          NaN\n",
            "1904          NaN\n",
            "1905          NaN\n",
            "1906          NaN\n",
            "1907          NaN\n",
            "1908          NaN\n",
            "1909          NaN\n",
            "1910          NaN\n",
            "1911    17.501145\n",
            "1912    17.502700\n",
            "1913    17.500737\n",
            "1914    17.487112\n",
            "1915    17.466333\n",
            "Name: AverageTemperature, dtype: float64\n",
            "Year\n",
            "2006    19.548792\n",
            "2007    19.591266\n",
            "2008    19.631821\n",
            "2009    19.671825\n",
            "2010    19.710821\n",
            "Name: AverageTemperature, dtype: float64\n"
          ],
          "name": "stdout"
        }
      ]
    },
    {
      "cell_type": "code",
      "metadata": {
        "id": "RKtQn57hRMM8",
        "colab_type": "code",
        "outputId": "5ff3ad1a-db20-449b-8955-ba7614b5d2ba",
        "colab": {
          "base_uri": "https://localhost:8080/",
          "height": 608
        }
      },
      "source": [
        "fig = plt.figure(figsize=(10, 7))\n",
        "ax = fig.add_axes([1, 1, 1, 1]);\n",
        "#\n",
        "# Raw data\n",
        "#\n",
        "ax.scatter(df_group_year.index, \n",
        "           df_group_year.AverageTemperature, \n",
        "           label = 'Raw Data', c = 'k')\n",
        "#\n",
        "# Moving averages\n",
        "#\n",
        "ax.plot(df_group_year.index, \n",
        "        rolling, \n",
        "        c = 'r', \n",
        "        linestyle = '--', \n",
        "        label = f'{window} year moving average')\n",
        "#\n",
        "ax.set_title('Mean Air Temperature Measurements',\n",
        "             fontsize = 16)\n",
        "#\n",
        "# make the ticks include the first and last years\n",
        "#\n",
        "tick_years = [1902] + list(range(1910, 2011, 10))\n",
        "ax.set_xlabel('Year', \n",
        "              fontsize = 14)\n",
        "ax.set_ylabel('Temperature ($^\\circ$C)', \n",
        "              fontsize = 14)\n",
        "ax.set_xticks(tick_years)\n",
        "ax.tick_params(labelsize = 12)\n",
        "ax.legend(fontsize = 12)\n"
      ],
      "execution_count": 0,
      "outputs": [
        {
          "output_type": "execute_result",
          "data": {
            "text/plain": [
              "<matplotlib.legend.Legend at 0x7ffbc9045d68>"
            ]
          },
          "metadata": {
            "tags": []
          },
          "execution_count": 18
        },
        {
          "output_type": "display_data",
          "data": {
            "image/png": "[encoded data removed]",
            "text/plain": [
              "<Figure size 720x504 with 1 Axes>"
            ]
          },
          "metadata": {
            "tags": []
          }
        }
      ]
    }
  ]
}