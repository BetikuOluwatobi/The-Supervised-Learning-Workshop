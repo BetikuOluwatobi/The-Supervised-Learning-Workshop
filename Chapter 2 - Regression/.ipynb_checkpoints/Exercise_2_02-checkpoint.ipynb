{
 "cells": [
  {
   "cell_type": "code",
   "execution_count": 1,
   "metadata": {
    "colab": {},
    "colab_type": "code",
    "id": "aUcSSVlSOGoA"
   },
   "outputs": [],
   "source": [
    "import pandas as pd\n",
    "import matplotlib.pyplot as plt\n",
    "from sklearn.linear_model import LinearRegression"
   ]
  },
  {
   "cell_type": "code",
   "execution_count": 2,
   "metadata": {
    "colab": {},
    "colab_type": "code",
    "id": "kDn9hp3dPX5G"
   },
   "outputs": [],
   "source": [
    "#\n",
    "# load the data\n",
    "#\n",
    "df = pd.read_csv('synth_temp.csv')"
   ]
  },
  {
   "cell_type": "code",
   "execution_count": 3,
   "metadata": {
    "colab": {
     "base_uri": "https://localhost:8080/",
     "height": 204
    },
    "colab_type": "code",
    "id": "hBtKePSxQDOV",
    "outputId": "8b93ebe9-6986-489a-f7c2-56e237b9db88"
   },
   "outputs": [
    {
     "data": {
      "text/html": [
       "<div>\n",
       "<style scoped>\n",
       "    .dataframe tbody tr th:only-of-type {\n",
       "        vertical-align: middle;\n",
       "    }\n",
       "\n",
       "    .dataframe tbody tr th {\n",
       "        vertical-align: top;\n",
       "    }\n",
       "\n",
       "    .dataframe thead th {\n",
       "        text-align: right;\n",
       "    }\n",
       "</style>\n",
       "<table border=\"1\" class=\"dataframe\">\n",
       "  <thead>\n",
       "    <tr style=\"text-align: right;\">\n",
       "      <th></th>\n",
       "      <th>Region</th>\n",
       "      <th>Year</th>\n",
       "      <th>RgnAvTemp</th>\n",
       "    </tr>\n",
       "  </thead>\n",
       "  <tbody>\n",
       "    <tr>\n",
       "      <th>292</th>\n",
       "      <td>A</td>\n",
       "      <td>1902</td>\n",
       "      <td>16.932383</td>\n",
       "    </tr>\n",
       "    <tr>\n",
       "      <th>293</th>\n",
       "      <td>B</td>\n",
       "      <td>1902</td>\n",
       "      <td>18.294661</td>\n",
       "    </tr>\n",
       "    <tr>\n",
       "      <th>294</th>\n",
       "      <td>C</td>\n",
       "      <td>1902</td>\n",
       "      <td>17.522463</td>\n",
       "    </tr>\n",
       "    <tr>\n",
       "      <th>295</th>\n",
       "      <td>D</td>\n",
       "      <td>1902</td>\n",
       "      <td>18.353418</td>\n",
       "    </tr>\n",
       "    <tr>\n",
       "      <th>296</th>\n",
       "      <td>E</td>\n",
       "      <td>1902</td>\n",
       "      <td>15.669523</td>\n",
       "    </tr>\n",
       "  </tbody>\n",
       "</table>\n",
       "</div>"
      ],
      "text/plain": [
       "    Region  Year  RgnAvTemp\n",
       "292      A  1902  16.932383\n",
       "293      B  1902  18.294661\n",
       "294      C  1902  17.522463\n",
       "295      D  1902  18.353418\n",
       "296      E  1902  15.669523"
      ]
     },
     "execution_count": 3,
     "metadata": {},
     "output_type": "execute_result"
    }
   ],
   "source": [
    "#\n",
    "# slice 1902 and forward\n",
    "#\n",
    "df = df.loc[df.Year > 1901]\n",
    "df.head()"
   ]
  },
  {
   "cell_type": "code",
   "execution_count": 4,
   "metadata": {
    "colab": {
     "base_uri": "https://localhost:8080/",
     "height": 452
    },
    "colab_type": "code",
    "id": "JjrL_hZYQdk9",
    "outputId": "f6d27523-64af-4ced-85e2-2b158dfa97ed"
   },
   "outputs": [
    {
     "data": {
      "text/html": [
       "<div>\n",
       "<style scoped>\n",
       "    .dataframe tbody tr th:only-of-type {\n",
       "        vertical-align: middle;\n",
       "    }\n",
       "\n",
       "    .dataframe tbody tr th {\n",
       "        vertical-align: top;\n",
       "    }\n",
       "\n",
       "    .dataframe thead th {\n",
       "        text-align: right;\n",
       "    }\n",
       "</style>\n",
       "<table border=\"1\" class=\"dataframe\">\n",
       "  <thead>\n",
       "    <tr style=\"text-align: right;\">\n",
       "      <th></th>\n",
       "      <th>RgnAvTemp</th>\n",
       "    </tr>\n",
       "    <tr>\n",
       "      <th>Year</th>\n",
       "      <th></th>\n",
       "    </tr>\n",
       "  </thead>\n",
       "  <tbody>\n",
       "    <tr>\n",
       "      <th>1902</th>\n",
       "      <td>17.007612</td>\n",
       "    </tr>\n",
       "    <tr>\n",
       "      <th>1903</th>\n",
       "      <td>17.102858</td>\n",
       "    </tr>\n",
       "    <tr>\n",
       "      <th>1904</th>\n",
       "      <td>18.281377</td>\n",
       "    </tr>\n",
       "    <tr>\n",
       "      <th>1905</th>\n",
       "      <td>16.944154</td>\n",
       "    </tr>\n",
       "    <tr>\n",
       "      <th>1906</th>\n",
       "      <td>16.765670</td>\n",
       "    </tr>\n",
       "    <tr>\n",
       "      <th>1907</th>\n",
       "      <td>17.595647</td>\n",
       "    </tr>\n",
       "    <tr>\n",
       "      <th>1908</th>\n",
       "      <td>17.425458</td>\n",
       "    </tr>\n",
       "    <tr>\n",
       "      <th>1909</th>\n",
       "      <td>18.058278</td>\n",
       "    </tr>\n",
       "    <tr>\n",
       "      <th>1910</th>\n",
       "      <td>17.266748</td>\n",
       "    </tr>\n",
       "    <tr>\n",
       "      <th>1911</th>\n",
       "      <td>17.403427</td>\n",
       "    </tr>\n",
       "    <tr>\n",
       "      <th>1912</th>\n",
       "      <td>16.974324</td>\n",
       "    </tr>\n",
       "    <tr>\n",
       "      <th>1913</th>\n",
       "      <td>17.215920</td>\n",
       "    </tr>\n",
       "  </tbody>\n",
       "</table>\n",
       "</div>"
      ],
      "text/plain": [
       "      RgnAvTemp\n",
       "Year           \n",
       "1902  17.007612\n",
       "1903  17.102858\n",
       "1904  18.281377\n",
       "1905  16.944154\n",
       "1906  16.765670\n",
       "1907  17.595647\n",
       "1908  17.425458\n",
       "1909  18.058278\n",
       "1910  17.266748\n",
       "1911  17.403427\n",
       "1912  16.974324\n",
       "1913  17.215920"
      ]
     },
     "execution_count": 4,
     "metadata": {},
     "output_type": "execute_result"
    }
   ],
   "source": [
    "#\n",
    "# roll up by year\n",
    "#\n",
    "df_group_year = df.groupby(['Year']).agg({'RgnAvTemp' : 'mean'})\n",
    "#\n",
    "# note that the .droplevel() method removes the multiindex \n",
    "# added by the .agg() method() to make things simpler\n",
    "# later on in our analysis\n",
    "#\n",
    "df_group_year.head(12)"
   ]
  },
  {
   "cell_type": "code",
   "execution_count": 5,
   "metadata": {
    "colab": {
     "base_uri": "https://localhost:8080/",
     "height": 700
    },
    "colab_type": "code",
    "id": "orClyQArGI8l",
    "outputId": "3d529d43-6e7a-4082-f0e1-58300eee50c5"
   },
   "outputs": [
    {
     "data": {
      "text/html": [
       "<div>\n",
       "<style scoped>\n",
       "    .dataframe tbody tr th:only-of-type {\n",
       "        vertical-align: middle;\n",
       "    }\n",
       "\n",
       "    .dataframe tbody tr th {\n",
       "        vertical-align: top;\n",
       "    }\n",
       "\n",
       "    .dataframe thead th {\n",
       "        text-align: right;\n",
       "    }\n",
       "</style>\n",
       "<table border=\"1\" class=\"dataframe\">\n",
       "  <thead>\n",
       "    <tr style=\"text-align: right;\">\n",
       "      <th></th>\n",
       "      <th>AvTemp</th>\n",
       "      <th>Year</th>\n",
       "    </tr>\n",
       "    <tr>\n",
       "      <th>Year</th>\n",
       "      <th></th>\n",
       "      <th></th>\n",
       "    </tr>\n",
       "  </thead>\n",
       "  <tbody>\n",
       "    <tr>\n",
       "      <th>1902</th>\n",
       "      <td>17.007612</td>\n",
       "      <td>1902</td>\n",
       "    </tr>\n",
       "    <tr>\n",
       "      <th>1903</th>\n",
       "      <td>17.102858</td>\n",
       "      <td>1903</td>\n",
       "    </tr>\n",
       "    <tr>\n",
       "      <th>1904</th>\n",
       "      <td>18.281377</td>\n",
       "      <td>1904</td>\n",
       "    </tr>\n",
       "    <tr>\n",
       "      <th>1905</th>\n",
       "      <td>16.944154</td>\n",
       "      <td>1905</td>\n",
       "    </tr>\n",
       "    <tr>\n",
       "      <th>1906</th>\n",
       "      <td>16.765670</td>\n",
       "      <td>1906</td>\n",
       "    </tr>\n",
       "    <tr>\n",
       "      <th>1907</th>\n",
       "      <td>17.595647</td>\n",
       "      <td>1907</td>\n",
       "    </tr>\n",
       "    <tr>\n",
       "      <th>1908</th>\n",
       "      <td>17.425458</td>\n",
       "      <td>1908</td>\n",
       "    </tr>\n",
       "    <tr>\n",
       "      <th>1909</th>\n",
       "      <td>18.058278</td>\n",
       "      <td>1909</td>\n",
       "    </tr>\n",
       "    <tr>\n",
       "      <th>1910</th>\n",
       "      <td>17.266748</td>\n",
       "      <td>1910</td>\n",
       "    </tr>\n",
       "    <tr>\n",
       "      <th>1911</th>\n",
       "      <td>17.403427</td>\n",
       "      <td>1911</td>\n",
       "    </tr>\n",
       "    <tr>\n",
       "      <th>1912</th>\n",
       "      <td>16.974324</td>\n",
       "      <td>1912</td>\n",
       "    </tr>\n",
       "    <tr>\n",
       "      <th>1913</th>\n",
       "      <td>17.215920</td>\n",
       "      <td>1913</td>\n",
       "    </tr>\n",
       "    <tr>\n",
       "      <th>1914</th>\n",
       "      <td>18.219263</td>\n",
       "      <td>1914</td>\n",
       "    </tr>\n",
       "    <tr>\n",
       "      <th>1915</th>\n",
       "      <td>17.378599</td>\n",
       "      <td>1915</td>\n",
       "    </tr>\n",
       "    <tr>\n",
       "      <th>1916</th>\n",
       "      <td>16.965336</td>\n",
       "      <td>1916</td>\n",
       "    </tr>\n",
       "    <tr>\n",
       "      <th>1917</th>\n",
       "      <td>16.552459</td>\n",
       "      <td>1917</td>\n",
       "    </tr>\n",
       "    <tr>\n",
       "      <th>1918</th>\n",
       "      <td>18.101315</td>\n",
       "      <td>1918</td>\n",
       "    </tr>\n",
       "    <tr>\n",
       "      <th>1919</th>\n",
       "      <td>18.415365</td>\n",
       "      <td>1919</td>\n",
       "    </tr>\n",
       "    <tr>\n",
       "      <th>1920</th>\n",
       "      <td>16.828170</td>\n",
       "      <td>1920</td>\n",
       "    </tr>\n",
       "    <tr>\n",
       "      <th>1921</th>\n",
       "      <td>17.533025</td>\n",
       "      <td>1921</td>\n",
       "    </tr>\n",
       "  </tbody>\n",
       "</table>\n",
       "</div>"
      ],
      "text/plain": [
       "         AvTemp  Year\n",
       "Year                 \n",
       "1902  17.007612  1902\n",
       "1903  17.102858  1903\n",
       "1904  18.281377  1904\n",
       "1905  16.944154  1905\n",
       "1906  16.765670  1906\n",
       "1907  17.595647  1907\n",
       "1908  17.425458  1908\n",
       "1909  18.058278  1909\n",
       "1910  17.266748  1910\n",
       "1911  17.403427  1911\n",
       "1912  16.974324  1912\n",
       "1913  17.215920  1913\n",
       "1914  18.219263  1914\n",
       "1915  17.378599  1915\n",
       "1916  16.965336  1916\n",
       "1917  16.552459  1917\n",
       "1918  18.101315  1918\n",
       "1919  18.415365  1919\n",
       "1920  16.828170  1920\n",
       "1921  17.533025  1921"
      ]
     },
     "execution_count": 5,
     "metadata": {},
     "output_type": "execute_result"
    }
   ],
   "source": [
    "#\n",
    "# add the Year column so we can use that in a model\n",
    "#\n",
    "df_group_year['Year'] = df_group_year.index\n",
    "df_group_year = df_group_year.rename(columns = {'RgnAvTemp' : 'AvTemp'})\n",
    "df_group_year.head(20)"
   ]
  },
  {
   "cell_type": "code",
   "execution_count": 6,
   "metadata": {
    "colab": {
     "base_uri": "https://localhost:8080/",
     "height": 68
    },
    "colab_type": "code",
    "id": "xfk9mnWCPudD",
    "outputId": "e6d6b9fb-4fb6-41ee-a0d9-0fb37ad3668f"
   },
   "outputs": [
    {
     "name": "stdout",
     "output_type": "stream",
     "text": [
      "model slope =  0.02391321004202961\n",
      "model intercept =  -28.70711707598515\n",
      "r squared =  0.6314164203985785\n"
     ]
    }
   ],
   "source": [
    "#\n",
    "# construct the model and inspect results\n",
    "#\n",
    "linear_model = LinearRegression(fit_intercept = True)\n",
    "linear_model.fit(df_group_year['Year'].values.reshape((-1, 1)),\n",
    "                 df_group_year.AvTemp)\n",
    "print('model slope = ', linear_model.coef_[0])\n",
    "print('model intercept = ', linear_model.intercept_)\n",
    "r2 = linear_model.score(df_group_year['Year'].values.reshape((-1, 1)),\n",
    "                 df_group_year.AvTemp)\n",
    "print('r squared = ', r2)"
   ]
  },
  {
   "cell_type": "code",
   "execution_count": 7,
   "metadata": {
    "colab": {},
    "colab_type": "code",
    "id": "23ISdFd3QOyk"
   },
   "outputs": [],
   "source": [
    "#\n",
    "# generate predictions for visualization\n",
    "#\n",
    "pred_X = df_group_year.loc[:, 'Year']\n",
    "pred_Y = linear_model.predict(df_group_year['Year'].values.reshape((-1, 1)))"
   ]
  },
  {
   "cell_type": "code",
   "execution_count": 8,
   "metadata": {
    "colab": {
     "base_uri": "https://localhost:8080/",
     "height": 608
    },
    "colab_type": "code",
    "id": "x8g_7JnVLogz",
    "outputId": "2bfc38dc-ef95-4ad6-ae0f-9ce8b77ff6d4"
   },
   "outputs": [
    {
     "data": {
      "text/plain": [
       "<matplotlib.legend.Legend at 0x18e482b0358>"
      ]
     },
     "execution_count": 8,
     "metadata": {},
     "output_type": "execute_result"
    },
    {
     "data": {
      "image/png": "[encoded data removed]",
      "text/plain": [
       "<Figure size 720x504 with 1 Axes>"
      ]
     },
     "metadata": {
      "needs_background": "light"
     },
     "output_type": "display_data"
    }
   ],
   "source": [
    "fig = plt.figure(figsize=(10, 7))\n",
    "ax = fig.add_axes([1, 1, 1, 1]);\n",
    "#\n",
    "# Raw data\n",
    "#\n",
    "raw_plot_data = df[df.Year > 1901]\n",
    "ax.scatter(raw_plot_data.Year, \n",
    "           raw_plot_data.RgnAvTemp, \n",
    "           label = 'Raw Data', \n",
    "           c = 'red',\n",
    "           s = 1.5)\n",
    "#\n",
    "# Annual averages\n",
    "#\n",
    "ax.scatter(df_group_year.Year, \n",
    "           df_group_year.AvTemp, \n",
    "           label = 'Annual average', \n",
    "           c = 'k',\n",
    "           s = 10)\n",
    "#\n",
    "# linear fit\n",
    "#\n",
    "ax.plot(pred_X, pred_Y, \n",
    "        c = \"blue\",\n",
    "        linestyle = '-.',\n",
    "        linewidth = 4,\n",
    "        label = 'linear fit')\n",
    "#\n",
    "ax.set_title('Mean Air Temperature Measurements',\n",
    "             fontsize = 16)\n",
    "#\n",
    "# make the ticks include the first and last years\n",
    "#\n",
    "tick_years = [1902] + list(range(1910, 2011, 10))\n",
    "ax.set_xlabel('Year', \n",
    "              fontsize = 14)\n",
    "ax.set_ylabel('Temperature ($^\\circ$C)', \n",
    "              fontsize = 14)\n",
    "ax.set_ylim(16, 20)\n",
    "ax.set_xticks(tick_years)\n",
    "ax.tick_params(labelsize = 12)\n",
    "ax.legend(fontsize = 12)"
   ]
  }
 ],
 "metadata": {
  "colab": {
   "collapsed_sections": [],
   "name": "Exercise 2.02.ipynb",
   "provenance": []
  },
  "kernelspec": {
   "display_name": "Python 3",
   "language": "python",
   "name": "python3"
  },
  "language_info": {
   "codemirror_mode": {
    "name": "ipython",
    "version": 3
   },
   "file_extension": ".py",
   "mimetype": "text/x-python",
   "name": "python",
   "nbconvert_exporter": "python",
   "pygments_lexer": "ipython3",
   "version": "3.6.9"
  }
 },
 "nbformat": 4,
 "nbformat_minor": 1
}
