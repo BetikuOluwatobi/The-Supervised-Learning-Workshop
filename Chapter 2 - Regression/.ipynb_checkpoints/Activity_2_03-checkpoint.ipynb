{
 "cells": [
  {
   "cell_type": "code",
   "execution_count": 1,
   "metadata": {
    "colab": {},
    "colab_type": "code",
    "id": "aUcSSVlSOGoA"
   },
   "outputs": [],
   "source": [
    "import pandas as pd\n",
    "import matplotlib.pyplot as plt\n",
    "from sklearn.linear_model import LinearRegression"
   ]
  },
  {
   "cell_type": "code",
   "execution_count": 2,
   "metadata": {
    "colab": {
     "base_uri": "https://localhost:8080/",
     "height": 289
    },
    "colab_type": "code",
    "id": "kDn9hp3dPX5G",
    "outputId": "006b2a21-9de2-42cb-c84b-1c05a924d9c8"
   },
   "outputs": [
    {
     "name": "stdout",
     "output_type": "stream",
     "text": [
      "         Date  TempHighF  TempAvgF  TempLowF DewPointHighF DewPointAvgF  \\\n",
      "0  2013-12-21         74        60        45            67           49   \n",
      "1  2013-12-22         56        48        39            43           36   \n",
      "2  2013-12-23         58        45        32            31           27   \n",
      "3  2013-12-24         61        46        31            36           28   \n",
      "4  2013-12-25         58        50        41            44           40   \n",
      "\n",
      "  DewPointLowF HumidityHighPercent HumidityAvgPercent HumidityLowPercent  ...  \\\n",
      "0           43                  93                 75                 57  ...   \n",
      "1           28                  93                 68                 43  ...   \n",
      "2           23                  76                 52                 27  ...   \n",
      "3           21                  89                 56                 22  ...   \n",
      "4           36                  86                 71                 56  ...   \n",
      "\n",
      "  SeaLevelPressureAvgInches SeaLevelPressureLowInches VisibilityHighMiles  \\\n",
      "0                     29.68                     29.59                  10   \n",
      "1                     30.13                     29.87                  10   \n",
      "2                     30.49                     30.41                  10   \n",
      "3                     30.45                      30.3                  10   \n",
      "4                     30.33                     30.27                  10   \n",
      "\n",
      "  VisibilityAvgMiles VisibilityLowMiles WindHighMPH WindAvgMPH WindGustMPH  \\\n",
      "0                  7                  2          20          4          31   \n",
      "1                 10                  5          16          6          25   \n",
      "2                 10                 10           8          3          12   \n",
      "3                 10                  7          12          4          20   \n",
      "4                 10                  7          10          2          16   \n",
      "\n",
      "  PrecipitationSumInches               Events  \n",
      "0                   0.46  Rain , Thunderstorm  \n",
      "1                      0                       \n",
      "2                      0                       \n",
      "3                      0                       \n",
      "4                      T                       \n",
      "\n",
      "[5 rows x 21 columns]\n",
      "            Date  TempHighF  TempAvgF  TempLowF DewPointHighF DewPointAvgF  \\\n",
      "1314  2017-07-27        103        89        75            71           67   \n",
      "1315  2017-07-28        105        91        76            71           64   \n",
      "1316  2017-07-29        107        92        77            72           64   \n",
      "1317  2017-07-30        106        93        79            70           68   \n",
      "1318  2017-07-31         99        88        77            66           61   \n",
      "\n",
      "     DewPointLowF HumidityHighPercent HumidityAvgPercent HumidityLowPercent  \\\n",
      "1314           61                  82                 54                 25   \n",
      "1315           55                  87                 54                 20   \n",
      "1316           55                  82                 51                 19   \n",
      "1317           63                  69                 48                 27   \n",
      "1318           54                  64                 43                 22   \n",
      "\n",
      "      ... SeaLevelPressureAvgInches SeaLevelPressureLowInches  \\\n",
      "1314  ...                     29.97                     29.88   \n",
      "1315  ...                      29.9                     29.81   \n",
      "1316  ...                     29.86                     29.79   \n",
      "1317  ...                     29.91                     29.87   \n",
      "1318  ...                     29.97                     29.91   \n",
      "\n",
      "     VisibilityHighMiles VisibilityAvgMiles VisibilityLowMiles WindHighMPH  \\\n",
      "1314                  10                 10                 10          12   \n",
      "1315                  10                 10                 10          14   \n",
      "1316                  10                 10                 10          12   \n",
      "1317                  10                 10                 10          13   \n",
      "1318                  10                 10                 10          12   \n",
      "\n",
      "     WindAvgMPH WindGustMPH PrecipitationSumInches Events  \n",
      "1314          5          21                      0         \n",
      "1315          5          20                      0         \n",
      "1316          4          17                      0         \n",
      "1317          4          20                      0         \n",
      "1318          4          20                      0         \n",
      "\n",
      "[5 rows x 21 columns]\n"
     ]
    }
   ],
   "source": [
    "#\n",
    "# load data and inspect\n",
    "#\n",
    "df = pd.read_csv('austin_weather.csv')\n",
    "#\n",
    "print(df.head())\n",
    "print(df.tail())"
   ]
  },
  {
   "cell_type": "code",
   "execution_count": 3,
   "metadata": {
    "colab": {
     "base_uri": "https://localhost:8080/",
     "height": 204
    },
    "colab_type": "code",
    "id": "hBtKePSxQDOV",
    "outputId": "376019db-14b6-40c7-bb8e-7fc173cfae24"
   },
   "outputs": [],
   "source": [
    "df = df.loc[:, ['Date', 'TempAvgF']]"
   ]
  },
  {
   "cell_type": "code",
   "execution_count": 4,
   "metadata": {
    "colab": {
     "base_uri": "https://localhost:8080/",
     "height": 221
    },
    "colab_type": "code",
    "id": "91njYskTbYvc",
    "outputId": "474e9dca-394b-4713-9622-5367c21da1ac"
   },
   "outputs": [],
   "source": [
    "#\n",
    "# add some useful columns\n",
    "#\n",
    "df.loc[:, 'Year'] = df.loc[:, 'Date'].str.slice(0, 4).astype('int')\n",
    "df.loc[:, 'Month'] = df.loc[:, 'Date'].str.slice(5, 7).astype('int')\n",
    "df.loc[:, 'Day'] = df.loc[:, 'Date'].str.slice(8, 10).astype('int')\n",
    "#"
   ]
  },
  {
   "cell_type": "code",
   "execution_count": 5,
   "metadata": {
    "colab": {
     "base_uri": "https://localhost:8080/",
     "height": 221
    },
    "colab_type": "code",
    "id": "bb7yHHt-cXt_",
    "outputId": "b45ff4ee-b333-44eb-9f80-dea3a880cb65"
   },
   "outputs": [],
   "source": [
    "#\n",
    "# set a 20 day window then use that to smooth \n",
    "# temperature in a new column\n",
    "window = 20\n",
    "df['20_d_mov_avg'] = df.TempAvgF.rolling(window).mean()"
   ]
  },
  {
   "cell_type": "code",
   "execution_count": 6,
   "metadata": {
    "colab": {
     "base_uri": "https://localhost:8080/",
     "height": 221
    },
    "colab_type": "code",
    "id": "qm2_i2KdtLTY",
    "outputId": "f592a3b4-31bc-42c6-9673-628ea1ec7de2"
   },
   "outputs": [
    {
     "name": "stdout",
     "output_type": "stream",
     "text": [
      "   index        Date  TempAvgF  Year  Month  Day  20_d_mov_avg  Day_of_Year\n",
      "0    376  2015-01-01        37  2015      1    1         52.70            1\n",
      "1    377  2015-01-02        41  2015      1    2         51.50            2\n",
      "2    378  2015-01-03        51  2015      1    3         50.65            3\n",
      "3    379  2015-01-04        43  2015      1    4         49.65            4\n",
      "4    380  2015-01-05        41  2015      1    5         48.95            5\n",
      "     index        Date  TempAvgF  Year  Month  Day  20_d_mov_avg  Day_of_Year\n",
      "360    736  2015-12-27        55  2015     12   27         61.10          361\n",
      "361    737  2015-12-28        41  2015     12   28         60.20          362\n",
      "362    738  2015-12-29        43  2015     12   29         59.25          363\n",
      "363    739  2015-12-30        49  2015     12   30         58.45          364\n",
      "364    740  2015-12-31        46  2015     12   31         57.45          365\n"
     ]
    }
   ],
   "source": [
    "#\n",
    "# now let's slice exactly one year on the\n",
    "# calendar start and end dates\n",
    "# we see from the previous output that \n",
    "# 2014 is the first year with complete data, \n",
    "# however it will still have NaN values for \n",
    "# the moving average, so we'll use 2015\n",
    "#\n",
    "df_one_year = df.loc[df.Year == 2015, :].reset_index()\n",
    "df_one_year['Day_of_Year'] = df_one_year.index + 1\n",
    "print(df_one_year.head())\n",
    "print(df_one_year.tail())"
   ]
  },
  {
   "cell_type": "code",
   "execution_count": 7,
   "metadata": {
    "colab": {
     "base_uri": "https://localhost:8080/",
     "height": 608
    },
    "colab_type": "code",
    "id": "RKtQn57hRMM8",
    "outputId": "2b0e4937-9a9e-4694-c846-3ae1caa9183a"
   },
   "outputs": [
    {
     "data": {
      "text/plain": [
       "<matplotlib.legend.Legend at 0x181e2855f98>"
      ]
     },
     "execution_count": 7,
     "metadata": {},
     "output_type": "execute_result"
    },
    {
     "data": {
      "image/png": "[encoded data removed]",
      "text/plain": [
       "<Figure size 720x504 with 1 Axes>"
      ]
     },
     "metadata": {
      "needs_background": "light"
     },
     "output_type": "display_data"
    }
   ],
   "source": [
    "fig = plt.figure(figsize=(10, 7))\n",
    "ax = fig.add_axes([1, 1, 1, 1]);\n",
    "#\n",
    "# Raw data\n",
    "#\n",
    "ax.scatter(df_one_year.Day_of_Year, \n",
    "           df_one_year.TempAvgF, \n",
    "           label = 'Raw Data', c = 'k')\n",
    "#\n",
    "# Moving averages\n",
    "#\n",
    "ax.plot(df_one_year.Day_of_Year,\n",
    "        df_one_year['20_d_mov_avg'], \n",
    "        c = 'r', \n",
    "        linestyle = '--', \n",
    "        label = f'{window} day moving average')\n",
    "#\n",
    "ax.set_title('Air Temperature Measurements',\n",
    "             fontsize = 16)\n",
    "ax.set_xlabel('Day', \n",
    "              fontsize = 14)\n",
    "ax.set_ylabel('Temperature ($^\\circ$F)', \n",
    "              fontsize = 14)\n",
    "ax.set_xticks(range(df_one_year.Day_of_Year.min(), \n",
    "                    df_one_year.Day_of_Year.max(), \n",
    "                    30))\n",
    "ax.tick_params(labelsize = 12)\n",
    "ax.legend(fontsize = 12)"
   ]
  },
  {
   "cell_type": "code",
   "execution_count": 9,
   "metadata": {
    "colab": {
     "base_uri": "https://localhost:8080/",
     "height": 609
    },
    "colab_type": "code",
    "id": "EZrW77l43Vbz",
    "outputId": "b9dec81d-728e-48a9-c34e-9b0e86ca332d"
   },
   "outputs": [
    {
     "data": {
      "text/html": [
       "<div>\n",
       "<style scoped>\n",
       "    .dataframe tbody tr th:only-of-type {\n",
       "        vertical-align: middle;\n",
       "    }\n",
       "\n",
       "    .dataframe tbody tr th {\n",
       "        vertical-align: top;\n",
       "    }\n",
       "\n",
       "    .dataframe thead th {\n",
       "        text-align: right;\n",
       "    }\n",
       "</style>\n",
       "<table border=\"1\" class=\"dataframe\">\n",
       "  <thead>\n",
       "    <tr style=\"text-align: right;\">\n",
       "      <th></th>\n",
       "      <th>index</th>\n",
       "      <th>Date</th>\n",
       "      <th>TempAvgF</th>\n",
       "      <th>Year</th>\n",
       "      <th>Day</th>\n",
       "      <th>20_d_mov_avg</th>\n",
       "      <th>Day_of_Year</th>\n",
       "      <th>Feb</th>\n",
       "      <th>Mar</th>\n",
       "      <th>Apr</th>\n",
       "      <th>May</th>\n",
       "      <th>Jun</th>\n",
       "      <th>Jul</th>\n",
       "      <th>Aug</th>\n",
       "      <th>Sep</th>\n",
       "      <th>Oct</th>\n",
       "      <th>Nov</th>\n",
       "      <th>Dec</th>\n",
       "    </tr>\n",
       "  </thead>\n",
       "  <tbody>\n",
       "    <tr>\n",
       "      <th>0</th>\n",
       "      <td>376</td>\n",
       "      <td>2015-01-01</td>\n",
       "      <td>37</td>\n",
       "      <td>2015</td>\n",
       "      <td>1</td>\n",
       "      <td>52.70</td>\n",
       "      <td>1</td>\n",
       "      <td>0</td>\n",
       "      <td>0</td>\n",
       "      <td>0</td>\n",
       "      <td>0</td>\n",
       "      <td>0</td>\n",
       "      <td>0</td>\n",
       "      <td>0</td>\n",
       "      <td>0</td>\n",
       "      <td>0</td>\n",
       "      <td>0</td>\n",
       "      <td>0</td>\n",
       "    </tr>\n",
       "    <tr>\n",
       "      <th>1</th>\n",
       "      <td>377</td>\n",
       "      <td>2015-01-02</td>\n",
       "      <td>41</td>\n",
       "      <td>2015</td>\n",
       "      <td>2</td>\n",
       "      <td>51.50</td>\n",
       "      <td>2</td>\n",
       "      <td>0</td>\n",
       "      <td>0</td>\n",
       "      <td>0</td>\n",
       "      <td>0</td>\n",
       "      <td>0</td>\n",
       "      <td>0</td>\n",
       "      <td>0</td>\n",
       "      <td>0</td>\n",
       "      <td>0</td>\n",
       "      <td>0</td>\n",
       "      <td>0</td>\n",
       "    </tr>\n",
       "    <tr>\n",
       "      <th>2</th>\n",
       "      <td>378</td>\n",
       "      <td>2015-01-03</td>\n",
       "      <td>51</td>\n",
       "      <td>2015</td>\n",
       "      <td>3</td>\n",
       "      <td>50.65</td>\n",
       "      <td>3</td>\n",
       "      <td>0</td>\n",
       "      <td>0</td>\n",
       "      <td>0</td>\n",
       "      <td>0</td>\n",
       "      <td>0</td>\n",
       "      <td>0</td>\n",
       "      <td>0</td>\n",
       "      <td>0</td>\n",
       "      <td>0</td>\n",
       "      <td>0</td>\n",
       "      <td>0</td>\n",
       "    </tr>\n",
       "    <tr>\n",
       "      <th>3</th>\n",
       "      <td>379</td>\n",
       "      <td>2015-01-04</td>\n",
       "      <td>43</td>\n",
       "      <td>2015</td>\n",
       "      <td>4</td>\n",
       "      <td>49.65</td>\n",
       "      <td>4</td>\n",
       "      <td>0</td>\n",
       "      <td>0</td>\n",
       "      <td>0</td>\n",
       "      <td>0</td>\n",
       "      <td>0</td>\n",
       "      <td>0</td>\n",
       "      <td>0</td>\n",
       "      <td>0</td>\n",
       "      <td>0</td>\n",
       "      <td>0</td>\n",
       "      <td>0</td>\n",
       "    </tr>\n",
       "    <tr>\n",
       "      <th>4</th>\n",
       "      <td>380</td>\n",
       "      <td>2015-01-05</td>\n",
       "      <td>41</td>\n",
       "      <td>2015</td>\n",
       "      <td>5</td>\n",
       "      <td>48.95</td>\n",
       "      <td>5</td>\n",
       "      <td>0</td>\n",
       "      <td>0</td>\n",
       "      <td>0</td>\n",
       "      <td>0</td>\n",
       "      <td>0</td>\n",
       "      <td>0</td>\n",
       "      <td>0</td>\n",
       "      <td>0</td>\n",
       "      <td>0</td>\n",
       "      <td>0</td>\n",
       "      <td>0</td>\n",
       "    </tr>\n",
       "    <tr>\n",
       "      <th>...</th>\n",
       "      <td>...</td>\n",
       "      <td>...</td>\n",
       "      <td>...</td>\n",
       "      <td>...</td>\n",
       "      <td>...</td>\n",
       "      <td>...</td>\n",
       "      <td>...</td>\n",
       "      <td>...</td>\n",
       "      <td>...</td>\n",
       "      <td>...</td>\n",
       "      <td>...</td>\n",
       "      <td>...</td>\n",
       "      <td>...</td>\n",
       "      <td>...</td>\n",
       "      <td>...</td>\n",
       "      <td>...</td>\n",
       "      <td>...</td>\n",
       "      <td>...</td>\n",
       "    </tr>\n",
       "    <tr>\n",
       "      <th>360</th>\n",
       "      <td>736</td>\n",
       "      <td>2015-12-27</td>\n",
       "      <td>55</td>\n",
       "      <td>2015</td>\n",
       "      <td>27</td>\n",
       "      <td>61.10</td>\n",
       "      <td>361</td>\n",
       "      <td>0</td>\n",
       "      <td>0</td>\n",
       "      <td>0</td>\n",
       "      <td>0</td>\n",
       "      <td>0</td>\n",
       "      <td>0</td>\n",
       "      <td>0</td>\n",
       "      <td>0</td>\n",
       "      <td>0</td>\n",
       "      <td>0</td>\n",
       "      <td>1</td>\n",
       "    </tr>\n",
       "    <tr>\n",
       "      <th>361</th>\n",
       "      <td>737</td>\n",
       "      <td>2015-12-28</td>\n",
       "      <td>41</td>\n",
       "      <td>2015</td>\n",
       "      <td>28</td>\n",
       "      <td>60.20</td>\n",
       "      <td>362</td>\n",
       "      <td>0</td>\n",
       "      <td>0</td>\n",
       "      <td>0</td>\n",
       "      <td>0</td>\n",
       "      <td>0</td>\n",
       "      <td>0</td>\n",
       "      <td>0</td>\n",
       "      <td>0</td>\n",
       "      <td>0</td>\n",
       "      <td>0</td>\n",
       "      <td>1</td>\n",
       "    </tr>\n",
       "    <tr>\n",
       "      <th>362</th>\n",
       "      <td>738</td>\n",
       "      <td>2015-12-29</td>\n",
       "      <td>43</td>\n",
       "      <td>2015</td>\n",
       "      <td>29</td>\n",
       "      <td>59.25</td>\n",
       "      <td>363</td>\n",
       "      <td>0</td>\n",
       "      <td>0</td>\n",
       "      <td>0</td>\n",
       "      <td>0</td>\n",
       "      <td>0</td>\n",
       "      <td>0</td>\n",
       "      <td>0</td>\n",
       "      <td>0</td>\n",
       "      <td>0</td>\n",
       "      <td>0</td>\n",
       "      <td>1</td>\n",
       "    </tr>\n",
       "    <tr>\n",
       "      <th>363</th>\n",
       "      <td>739</td>\n",
       "      <td>2015-12-30</td>\n",
       "      <td>49</td>\n",
       "      <td>2015</td>\n",
       "      <td>30</td>\n",
       "      <td>58.45</td>\n",
       "      <td>364</td>\n",
       "      <td>0</td>\n",
       "      <td>0</td>\n",
       "      <td>0</td>\n",
       "      <td>0</td>\n",
       "      <td>0</td>\n",
       "      <td>0</td>\n",
       "      <td>0</td>\n",
       "      <td>0</td>\n",
       "      <td>0</td>\n",
       "      <td>0</td>\n",
       "      <td>1</td>\n",
       "    </tr>\n",
       "    <tr>\n",
       "      <th>364</th>\n",
       "      <td>740</td>\n",
       "      <td>2015-12-31</td>\n",
       "      <td>46</td>\n",
       "      <td>2015</td>\n",
       "      <td>31</td>\n",
       "      <td>57.45</td>\n",
       "      <td>365</td>\n",
       "      <td>0</td>\n",
       "      <td>0</td>\n",
       "      <td>0</td>\n",
       "      <td>0</td>\n",
       "      <td>0</td>\n",
       "      <td>0</td>\n",
       "      <td>0</td>\n",
       "      <td>0</td>\n",
       "      <td>0</td>\n",
       "      <td>0</td>\n",
       "      <td>1</td>\n",
       "    </tr>\n",
       "  </tbody>\n",
       "</table>\n",
       "<p>365 rows × 18 columns</p>\n",
       "</div>"
      ],
      "text/plain": [
       "     index        Date  TempAvgF  Year  Day  20_d_mov_avg  Day_of_Year  Feb  \\\n",
       "0      376  2015-01-01        37  2015    1         52.70            1    0   \n",
       "1      377  2015-01-02        41  2015    2         51.50            2    0   \n",
       "2      378  2015-01-03        51  2015    3         50.65            3    0   \n",
       "3      379  2015-01-04        43  2015    4         49.65            4    0   \n",
       "4      380  2015-01-05        41  2015    5         48.95            5    0   \n",
       "..     ...         ...       ...   ...  ...           ...          ...  ...   \n",
       "360    736  2015-12-27        55  2015   27         61.10          361    0   \n",
       "361    737  2015-12-28        41  2015   28         60.20          362    0   \n",
       "362    738  2015-12-29        43  2015   29         59.25          363    0   \n",
       "363    739  2015-12-30        49  2015   30         58.45          364    0   \n",
       "364    740  2015-12-31        46  2015   31         57.45          365    0   \n",
       "\n",
       "     Mar  Apr  May  Jun  Jul  Aug  Sep  Oct  Nov  Dec  \n",
       "0      0    0    0    0    0    0    0    0    0    0  \n",
       "1      0    0    0    0    0    0    0    0    0    0  \n",
       "2      0    0    0    0    0    0    0    0    0    0  \n",
       "3      0    0    0    0    0    0    0    0    0    0  \n",
       "4      0    0    0    0    0    0    0    0    0    0  \n",
       "..   ...  ...  ...  ...  ...  ...  ...  ...  ...  ...  \n",
       "360    0    0    0    0    0    0    0    0    0    1  \n",
       "361    0    0    0    0    0    0    0    0    0    1  \n",
       "362    0    0    0    0    0    0    0    0    0    1  \n",
       "363    0    0    0    0    0    0    0    0    0    1  \n",
       "364    0    0    0    0    0    0    0    0    0    1  \n",
       "\n",
       "[365 rows x 18 columns]"
      ]
     },
     "execution_count": 9,
     "metadata": {},
     "output_type": "execute_result"
    }
   ],
   "source": [
    "#\n",
    "# use the month as a dummy variable\n",
    "#\n",
    "dummy_vars = pd.get_dummies(df_one_year['Month'], drop_first = True)\n",
    "dummy_vars.columns = ['Feb', 'Mar', 'Apr', 'May', 'Jun',\n",
    "                      'Jul', 'Aug', 'Sep', 'Oct', 'Nov', 'Dec']\n",
    "df_one_year = pd.concat([df_one_year, dummy_vars], \n",
    "                        axis = 1).drop('Month', axis = 1)\n",
    "df_one_year"
   ]
  },
  {
   "cell_type": "code",
   "execution_count": 12,
   "metadata": {
    "colab": {
     "base_uri": "https://localhost:8080/",
     "height": 102
    },
    "colab_type": "code",
    "id": "hQZV2w2v39_b",
    "outputId": "78d41c36-cb8d-4e2c-db20-7fcd091c875e"
   },
   "outputs": [
    {
     "name": "stdout",
     "output_type": "stream",
     "text": [
      "model coefficients:  [ 0.03719346  1.57445204  9.35397321 19.16903518 22.02065629 26.80023439\n",
      " 30.17121033 30.82466482 25.6117698  15.71715435  1.542969   -4.06777548]\n",
      "model intercept:  48.34038858048261\n",
      "model r squared:  0.7834805472165678\n"
     ]
    }
   ],
   "source": [
    "#\n",
    "# fit model using the month dummy vars\n",
    "#\n",
    "linear_model = LinearRegression(fit_intercept = True)\n",
    "linear_model.fit(\n",
    "    pd.concat([df_one_year.Day_of_Year,\n",
    "               df_one_year.loc[:, 'Feb':'Dec']], axis = 1),\n",
    "    df_one_year['TempAvgF'])\n",
    "print('model coefficients: ', linear_model.coef_)\n",
    "print('model intercept: ', linear_model.intercept_)\n",
    "print('model r squared: ',\n",
    "      linear_model.score(\n",
    "          pd.concat([df_one_year.Day_of_Year,\n",
    "                     df_one_year.loc[:, 'Feb':'Dec']], axis = 1),\n",
    "          df_one_year['TempAvgF']))"
   ]
  },
  {
   "cell_type": "code",
   "execution_count": 14,
   "metadata": {
    "colab": {},
    "colab_type": "code",
    "id": "-nPKsGiM7sYM"
   },
   "outputs": [],
   "source": [
    "#\n",
    "# make predictions using the data\n",
    "#\n",
    "y_pred = linear_model.predict(\n",
    "    pd.concat([df_one_year.Day_of_Year,\n",
    "               df_one_year.loc[:, 'Feb':'Dec']],\n",
    "              axis = 1))\n",
    "x_pred = df_one_year.Day_of_Year"
   ]
  },
  {
   "cell_type": "code",
   "execution_count": 15,
   "metadata": {
    "colab": {
     "base_uri": "https://localhost:8080/",
     "height": 608
    },
    "colab_type": "code",
    "id": "uOa2Pbp-8EzJ",
    "outputId": "217c2a89-301c-4dc9-f955-a595cc3ae99b"
   },
   "outputs": [
    {
     "data": {
      "text/plain": [
       "<matplotlib.legend.Legend at 0x181e3828198>"
      ]
     },
     "execution_count": 15,
     "metadata": {},
     "output_type": "execute_result"
    },
    {
     "data": {
      "image/png": "[encoded data removed]",
      "text/plain": [
       "<Figure size 720x504 with 1 Axes>"
      ]
     },
     "metadata": {
      "needs_background": "light"
     },
     "output_type": "display_data"
    }
   ],
   "source": [
    "fig = plt.figure(figsize=(10, 7))\n",
    "ax = fig.add_axes([1, 1, 1, 1]);\n",
    "#\n",
    "# Raw data\n",
    "#\n",
    "ax.scatter(df_one_year.Day_of_Year, \n",
    "           df_one_year.TempAvgF, \n",
    "           label = 'Raw Data', c = 'k')\n",
    "#\n",
    "# Moving averages\n",
    "#\n",
    "ax.plot(df_one_year.Day_of_Year,\n",
    "        df_one_year['20_d_mov_avg'], \n",
    "        c = 'r', \n",
    "        linestyle = '--', \n",
    "        label = f'{window} day moving average')\n",
    "#\n",
    "# regression predictions\n",
    "#\n",
    "ax.plot(x_pred, y_pred,\n",
    "        c = \"blue\",\n",
    "        linestyle = '-.',\n",
    "        label = 'linear model w/dummy vars')\n",
    "ax.set_title('Air Temperature Measurements',\n",
    "             fontsize = 16)\n",
    "ax.set_xlabel('Day', \n",
    "              fontsize = 14)\n",
    "ax.set_ylabel('Temperature ($^\\circ$F)', \n",
    "              fontsize = 14)\n",
    "ax.set_xticks(range(df_one_year.Day_of_Year.min(), \n",
    "                    df_one_year.Day_of_Year.max(), \n",
    "                    30))\n",
    "ax.tick_params(labelsize = 12)\n",
    "ax.legend(fontsize = 12,\n",
    "          loc = 'upper left')"
   ]
  }
 ],
 "metadata": {
  "colab": {
   "collapsed_sections": [],
   "name": "Activity 2.03_colab.ipynb",
   "provenance": []
  },
  "kernelspec": {
   "display_name": "Python 3",
   "language": "python",
   "name": "python3"
  },
  "language_info": {
   "codemirror_mode": {
    "name": "ipython",
    "version": 3
   },
   "file_extension": ".py",
   "mimetype": "text/x-python",
   "name": "python",
   "nbconvert_exporter": "python",
   "pygments_lexer": "ipython3",
   "version": "3.6.9"
  }
 },
 "nbformat": 4,
 "nbformat_minor": 1
}
