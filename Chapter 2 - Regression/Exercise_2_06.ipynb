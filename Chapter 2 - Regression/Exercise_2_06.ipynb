{
 "cells": [
  {
   "cell_type": "code",
   "execution_count": 131,
   "metadata": {
    "colab": {},
    "colab_type": "code",
    "id": "aUcSSVlSOGoA"
   },
   "outputs": [],
   "source": [
    "import pandas as pd\n",
    "import numpy as np\n",
    "import matplotlib.pyplot as plt\n",
    "from sklearn.metrics import r2_score\n",
    "from sklearn.linear_model import SGDRegressor"
   ]
  },
  {
   "cell_type": "code",
   "execution_count": 132,
   "metadata": {
    "colab": {},
    "colab_type": "code",
    "id": "kDn9hp3dPX5G"
   },
   "outputs": [],
   "source": [
    "#\n",
    "# load the data\n",
    "#\n",
    "df = pd.read_csv('synth_temp.csv')"
   ]
  },
  {
   "cell_type": "code",
   "execution_count": 133,
   "metadata": {
    "colab": {
     "base_uri": "https://localhost:8080/",
     "height": 204
    },
    "colab_type": "code",
    "id": "hBtKePSxQDOV",
    "outputId": "8b93ebe9-6986-489a-f7c2-56e237b9db88"
   },
   "outputs": [],
   "source": [
    "#\n",
    "# slice 1902 and forward\n",
    "#\n",
    "df = df.loc[df.Year > 1901]"
   ]
  },
  {
   "cell_type": "code",
   "execution_count": 134,
   "metadata": {
    "colab": {
     "base_uri": "https://localhost:8080/",
     "height": 452
    },
    "colab_type": "code",
    "id": "JjrL_hZYQdk9",
    "outputId": "f6d27523-64af-4ced-85e2-2b158dfa97ed"
   },
   "outputs": [],
   "source": [
    "#\n",
    "# roll up by year\n",
    "#\n",
    "df_group_year = df.groupby(['Year']).agg({'RgnAvTemp' : 'mean'})"
   ]
  },
  {
   "cell_type": "code",
   "execution_count": 135,
   "metadata": {
    "colab": {
     "base_uri": "https://localhost:8080/",
     "height": 700
    },
    "colab_type": "code",
    "id": "orClyQArGI8l",
    "outputId": "3d529d43-6e7a-4082-f0e1-58300eee50c5"
   },
   "outputs": [],
   "source": [
    "#\n",
    "# add the Year column so we can use that in a model\n",
    "#\n",
    "df_group_year['Year'] = df_group_year.index\n",
    "df_group_year = df_group_year.rename(columns = {'RgnAvTemp' : 'AvTemp'})"
   ]
  },
  {
   "cell_type": "code",
   "execution_count": 136,
   "metadata": {},
   "outputs": [],
   "source": [
    "#\n",
    "# scale the data\n",
    "#\n",
    "X_min = df_group_year.Year.min()\n",
    "X_range = df_group_year.Year.max() - df_group_year.Year.min()\n",
    "Y_min = df_group_year.AvTemp.min()\n",
    "Y_range = df_group_year.AvTemp.max() - df_group_year.AvTemp.min()\n",
    "scale_X = (df_group_year.Year - X_min) / X_range\n",
    "#\n",
    "train_X = scale_X.ravel()\n",
    "train_Y = ((df_group_year.AvTemp - Y_min) / Y_range).ravel()"
   ]
  },
  {
   "cell_type": "code",
   "execution_count": 137,
   "metadata": {},
   "outputs": [],
   "source": [
    "#\n",
    "# create the model object\n",
    "#\n",
    "model = SGDRegressor(\n",
    "    loss = 'squared_loss',\n",
    "    max_iter = 1000000,\n",
    "    learning_rate = 'constant',\n",
    "    eta0 = 1e-6,\n",
    "    tol = 1e-7,\n",
    "    random_state = 42,\n",
    "    penalty = 'none')"
   ]
  },
  {
   "cell_type": "code",
   "execution_count": 138,
   "metadata": {},
   "outputs": [
    {
     "data": {
      "text/plain": [
       "SGDRegressor(alpha=0.0001, average=False, early_stopping=False, epsilon=0.1,\n",
       "             eta0=1e-06, fit_intercept=True, l1_ratio=0.15,\n",
       "             learning_rate='constant', loss='squared_loss', max_iter=1000000,\n",
       "             n_iter_no_change=5, penalty='none', power_t=0.25, random_state=42,\n",
       "             shuffle=True, tol=1e-07, validation_fraction=0.1, verbose=0,\n",
       "             warm_start=False)"
      ]
     },
     "execution_count": 138,
     "metadata": {},
     "output_type": "execute_result"
    }
   ],
   "source": [
    "#\n",
    "# fit the model\n",
    "#\n",
    "model.fit(train_X.reshape((-1, 1)), train_Y)"
   ]
  },
  {
   "cell_type": "code",
   "execution_count": 139,
   "metadata": {},
   "outputs": [
    {
     "name": "stdout",
     "output_type": "stream",
     "text": [
      "-7.082661463856759\n",
      "0.012907035481800522\n"
     ]
    }
   ],
   "source": [
    "Theta0 = (Y_min + Y_range * model.intercept_[0] - \n",
    "          Y_range * model.coef_[0] * X_min / X_range)\n",
    "Theta1 = Y_range * model.coef_[0] / X_range\n",
    "print(Theta0)\n",
    "print(Theta1)"
   ]
  },
  {
   "cell_type": "code",
   "execution_count": 140,
   "metadata": {},
   "outputs": [],
   "source": [
    "#\n",
    "# generate predictions\n",
    "#\n",
    "pred_X = df_group_year['Year']\n",
    "pred_Y = model.predict(train_X.reshape((-1, 1)))"
   ]
  },
  {
   "cell_type": "code",
   "execution_count": 141,
   "metadata": {
    "colab": {
     "base_uri": "https://localhost:8080/",
     "height": 68
    },
    "colab_type": "code",
    "id": "xfk9mnWCPudD",
    "outputId": "e6d6b9fb-4fb6-41ee-a0d9-0fb37ad3668f"
   },
   "outputs": [
    {
     "name": "stdout",
     "output_type": "stream",
     "text": [
      "r squared =  0.22972942438279398\n"
     ]
    }
   ],
   "source": [
    "#\n",
    "# calcualte the r squared value\n",
    "#\n",
    "r2 = r2_score(train_Y, y_pred)\n",
    "print('r squared = ', r2)"
   ]
  },
  {
   "cell_type": "code",
   "execution_count": 142,
   "metadata": {
    "colab": {},
    "colab_type": "code",
    "id": "23ISdFd3QOyk"
   },
   "outputs": [],
   "source": [
    "#\n",
    "# scale predictions back to real values\n",
    "#\n",
    "pred_Y = (pred_Y * Y_range) + Y_min"
   ]
  },
  {
   "cell_type": "code",
   "execution_count": 143,
   "metadata": {
    "colab": {
     "base_uri": "https://localhost:8080/",
     "height": 608
    },
    "colab_type": "code",
    "id": "x8g_7JnVLogz",
    "outputId": "2bfc38dc-ef95-4ad6-ae0f-9ce8b77ff6d4"
   },
   "outputs": [
    {
     "data": {
      "text/plain": [
       "<matplotlib.legend.Legend at 0x270a2cade48>"
      ]
     },
     "execution_count": 143,
     "metadata": {},
     "output_type": "execute_result"
    },
    {
     "data": {
      "image/png": "[encoded data removed]",
      "text/plain": [
       "<Figure size 720x504 with 1 Axes>"
      ]
     },
     "metadata": {
      "needs_background": "light"
     },
     "output_type": "display_data"
    }
   ],
   "source": [
    "fig = plt.figure(figsize=(10, 7))\n",
    "ax = fig.add_axes([1, 1, 1, 1])\n",
    "#\n",
    "# Raw data\n",
    "#\n",
    "raw_plot_data = df\n",
    "ax.scatter(raw_plot_data.Year, \n",
    "           raw_plot_data.RgnAvTemp, \n",
    "           label = 'Raw Data', \n",
    "           c = 'red',\n",
    "           s = 1.5)\n",
    "#\n",
    "# Annual averages\n",
    "#\n",
    "ax.scatter(df_group_year.Year, \n",
    "           df_group_year.AvTemp, \n",
    "           label = 'Annual average', \n",
    "           c = 'k',\n",
    "           s = 10)\n",
    "#\n",
    "# linear fit\n",
    "#\n",
    "ax.plot(pred_X, pred_Y, \n",
    "        c = \"blue\",\n",
    "        linestyle = '-.',\n",
    "        linewidth = 4,\n",
    "        label = 'linear fit')\n",
    "#\n",
    "# put the model on the plot\n",
    "#\n",
    "ax.text(1902, 20,\n",
    "        'Temp = ' + \n",
    "        str(round(Theta0, 2)) +\n",
    "        ' + ' +\n",
    "        str(round(Theta1, 4)) +\n",
    "        ' * Year',\n",
    "       fontsize = 16)\n",
    "#\n",
    "ax.set_title('Mean Air Temperature Measurements',\n",
    "             fontsize = 16)\n",
    "#\n",
    "# make the ticks include the first and last years\n",
    "#\n",
    "tick_years = [1902] + list(range(1910, 2011, 10))\n",
    "ax.set_xlabel('Year', \n",
    "              fontsize = 14)\n",
    "ax.set_ylabel('Temperature ($^\\circ$C)', \n",
    "              fontsize = 14)\n",
    "ax.set_ylim(15, 21)\n",
    "ax.set_xticks(tick_years)\n",
    "ax.tick_params(labelsize = 12)\n",
    "ax.legend(fontsize = 12)"
   ]
  }
 ],
 "metadata": {
  "colab": {
   "collapsed_sections": [],
   "name": "Exercise 2.02.ipynb",
   "provenance": []
  },
  "kernelspec": {
   "display_name": "Python 3",
   "language": "python",
   "name": "python3"
  },
  "language_info": {
   "codemirror_mode": {
    "name": "ipython",
    "version": 3
   },
   "file_extension": ".py",
   "mimetype": "text/x-python",
   "name": "python",
   "nbconvert_exporter": "python",
   "pygments_lexer": "ipython3",
   "version": "3.6.9"
  }
 },
 "nbformat": 4,
 "nbformat_minor": 1
}
