{
  "nbformat": 4,
  "nbformat_minor": 0,
  "metadata": {
    "colab": {
      "name": "Activity 2.02.ipynb",
      "provenance": [],
      "collapsed_sections": []
    },
    "kernelspec": {
      "name": "python3",
      "display_name": "Python 3"
    }
  },
  "cells": [
    {
      "cell_type": "code",
      "metadata": {
        "id": "aUcSSVlSOGoA",
        "colab_type": "code",
        "colab": {}
      },
      "source": [
        "import pandas as pd\n",
        "import matplotlib.pyplot as plt\n",
        "from sklearn.linear_model import LinearRegression"
      ],
      "execution_count": 0,
      "outputs": []
    },
    {
      "cell_type": "code",
      "metadata": {
        "id": "kDn9hp3dPX5G",
        "colab_type": "code",
        "outputId": "ce01be7c-d92c-4d01-860b-7dbab273e18e",
        "colab": {
          "base_uri": "https://localhost:8080/",
          "height": 289
        }
      },
      "source": [
        "#\n",
        "# load data and inspect\n",
        "#\n",
        "df = pd.read_csv('austin_temp.csv')\n",
        "#\n",
        "print(df.head())\n",
        "print(df.tail())"
      ],
      "execution_count": 0,
      "outputs": [
        {
          "output_type": "stream",
          "text": [
            "         Date  TempHighF  ...  PrecipitationSumInches               Events\n",
            "0  2013-12-21         74  ...                    0.46  Rain , Thunderstorm\n",
            "1  2013-12-22         56  ...                       0                     \n",
            "2  2013-12-23         58  ...                       0                     \n",
            "3  2013-12-24         61  ...                       0                     \n",
            "4  2013-12-25         58  ...                       T                     \n",
            "\n",
            "[5 rows x 21 columns]\n",
            "            Date  TempHighF  TempAvgF  ...  WindGustMPH PrecipitationSumInches Events\n",
            "1314  2017-07-27        103        89  ...           21                      0       \n",
            "1315  2017-07-28        105        91  ...           20                      0       \n",
            "1316  2017-07-29        107        92  ...           17                      0       \n",
            "1317  2017-07-30        106        93  ...           20                      0       \n",
            "1318  2017-07-31         99        88  ...           20                      0       \n",
            "\n",
            "[5 rows x 21 columns]\n"
          ],
          "name": "stdout"
        }
      ]
    },
    {
      "cell_type": "code",
      "metadata": {
        "id": "hBtKePSxQDOV",
        "colab_type": "code",
        "outputId": "60105eba-ef18-4e85-a239-1d1e5f82c947",
        "colab": {
          "base_uri": "https://localhost:8080/",
          "height": 204
        }
      },
      "source": [
        "df = df.loc[:, ['Date', 'TempAvgF']]\n",
        "df.head()"
      ],
      "execution_count": 0,
      "outputs": [
        {
          "output_type": "execute_result",
          "data": {
            "text/html": [
              "<div>\n",
              "<style scoped>\n",
              "    .dataframe tbody tr th:only-of-type {\n",
              "        vertical-align: middle;\n",
              "    }\n",
              "\n",
              "    .dataframe tbody tr th {\n",
              "        vertical-align: top;\n",
              "    }\n",
              "\n",
              "    .dataframe thead th {\n",
              "        text-align: right;\n",
              "    }\n",
              "</style>\n",
              "<table border=\"1\" class=\"dataframe\">\n",
              "  <thead>\n",
              "    <tr style=\"text-align: right;\">\n",
              "      <th></th>\n",
              "      <th>Date</th>\n",
              "      <th>TempAvgF</th>\n",
              "    </tr>\n",
              "  </thead>\n",
              "  <tbody>\n",
              "    <tr>\n",
              "      <th>0</th>\n",
              "      <td>2013-12-21</td>\n",
              "      <td>60</td>\n",
              "    </tr>\n",
              "    <tr>\n",
              "      <th>1</th>\n",
              "      <td>2013-12-22</td>\n",
              "      <td>48</td>\n",
              "    </tr>\n",
              "    <tr>\n",
              "      <th>2</th>\n",
              "      <td>2013-12-23</td>\n",
              "      <td>45</td>\n",
              "    </tr>\n",
              "    <tr>\n",
              "      <th>3</th>\n",
              "      <td>2013-12-24</td>\n",
              "      <td>46</td>\n",
              "    </tr>\n",
              "    <tr>\n",
              "      <th>4</th>\n",
              "      <td>2013-12-25</td>\n",
              "      <td>50</td>\n",
              "    </tr>\n",
              "  </tbody>\n",
              "</table>\n",
              "</div>"
            ],
            "text/plain": [
              "         Date  TempAvgF\n",
              "0  2013-12-21        60\n",
              "1  2013-12-22        48\n",
              "2  2013-12-23        45\n",
              "3  2013-12-24        46\n",
              "4  2013-12-25        50"
            ]
          },
          "metadata": {
            "tags": []
          },
          "execution_count": 10
        }
      ]
    },
    {
      "cell_type": "code",
      "metadata": {
        "id": "91njYskTbYvc",
        "colab_type": "code",
        "outputId": "519f6034-467b-4d46-e711-4470ff212e45",
        "colab": {
          "base_uri": "https://localhost:8080/",
          "height": 221
        }
      },
      "source": [
        "#\n",
        "# add some useful columns\n",
        "#\n",
        "df.loc[:, 'Year'] = df.loc[:, 'Date'].str.slice(0, 4).astype('int')\n",
        "df.loc[:, 'Month'] = df.loc[:, 'Date'].str.slice(5, 7).astype('int')\n",
        "df.loc[:, 'Day'] = df.loc[:, 'Date'].str.slice(8, 10).astype('int')\n",
        "#\n",
        "print(df.head())\n",
        "print(df.tail())"
      ],
      "execution_count": 0,
      "outputs": [
        {
          "output_type": "stream",
          "text": [
            "         Date  TempAvgF  Year  Month  Day\n",
            "0  2013-12-21        60  2013     12   21\n",
            "1  2013-12-22        48  2013     12   22\n",
            "2  2013-12-23        45  2013     12   23\n",
            "3  2013-12-24        46  2013     12   24\n",
            "4  2013-12-25        50  2013     12   25\n",
            "            Date  TempAvgF  Year  Month  Day\n",
            "1314  2017-07-27        89  2017      7   27\n",
            "1315  2017-07-28        91  2017      7   28\n",
            "1316  2017-07-29        92  2017      7   29\n",
            "1317  2017-07-30        93  2017      7   30\n",
            "1318  2017-07-31        88  2017      7   31\n"
          ],
          "name": "stdout"
        }
      ]
    },
    {
      "cell_type": "code",
      "metadata": {
        "id": "bb7yHHt-cXt_",
        "colab_type": "code",
        "outputId": "b8804d06-5388-4508-f776-c8bb7ea23813",
        "colab": {
          "base_uri": "https://localhost:8080/",
          "height": 221
        }
      },
      "source": [
        "#\n",
        "# set a 20 day window then use that to smooth \n",
        "# temperature in a new column\n",
        "window = 20\n",
        "df['20_d_mov_avg'] = df.TempAvgF.rolling(window).mean()\n",
        "print(df.head())\n",
        "print(df.tail())"
      ],
      "execution_count": 0,
      "outputs": [
        {
          "output_type": "stream",
          "text": [
            "         Date  TempAvgF  Year  Month  Day  20_d_mov_avg\n",
            "0  2013-12-21        60  2013     12   21           NaN\n",
            "1  2013-12-22        48  2013     12   22           NaN\n",
            "2  2013-12-23        45  2013     12   23           NaN\n",
            "3  2013-12-24        46  2013     12   24           NaN\n",
            "4  2013-12-25        50  2013     12   25           NaN\n",
            "            Date  TempAvgF  Year  Month  Day  20_d_mov_avg\n",
            "1314  2017-07-27        89  2017      7   27         88.95\n",
            "1315  2017-07-28        91  2017      7   28         89.10\n",
            "1316  2017-07-29        92  2017      7   29         89.25\n",
            "1317  2017-07-30        93  2017      7   30         89.50\n",
            "1318  2017-07-31        88  2017      7   31         89.45\n"
          ],
          "name": "stdout"
        }
      ]
    },
    {
      "cell_type": "code",
      "metadata": {
        "id": "qm2_i2KdtLTY",
        "colab_type": "code",
        "outputId": "589c4383-8ba6-40ce-c06d-b8123f41eda8",
        "colab": {
          "base_uri": "https://localhost:8080/",
          "height": 221
        }
      },
      "source": [
        "#\n",
        "# now let's slice exactly one year on the\n",
        "# calendar start and end dates\n",
        "# we see from the previous output that \n",
        "# 2014 is the first year with complete data, \n",
        "# however it will still have NaN values for \n",
        "# the moving average, so we'll use 2015\n",
        "#\n",
        "df_one_year = df.loc[df.Year == 2015, :].reset_index()\n",
        "df_one_year['Day_of_Year'] = df_one_year.index + 1\n",
        "print(df_one_year.head())\n",
        "print(df_one_year.tail())"
      ],
      "execution_count": 0,
      "outputs": [
        {
          "output_type": "stream",
          "text": [
            "   index        Date  TempAvgF  Year  Month  Day  20_d_mov_avg  Day_of_Year\n",
            "0    376  2015-01-01        37  2015      1    1         52.70            1\n",
            "1    377  2015-01-02        41  2015      1    2         51.50            2\n",
            "2    378  2015-01-03        51  2015      1    3         50.65            3\n",
            "3    379  2015-01-04        43  2015      1    4         49.65            4\n",
            "4    380  2015-01-05        41  2015      1    5         48.95            5\n",
            "     index        Date  TempAvgF  Year  Month  Day  20_d_mov_avg  Day_of_Year\n",
            "360    736  2015-12-27        55  2015     12   27         61.10          361\n",
            "361    737  2015-12-28        41  2015     12   28         60.20          362\n",
            "362    738  2015-12-29        43  2015     12   29         59.25          363\n",
            "363    739  2015-12-30        49  2015     12   30         58.45          364\n",
            "364    740  2015-12-31        46  2015     12   31         57.45          365\n"
          ],
          "name": "stdout"
        }
      ]
    },
    {
      "cell_type": "code",
      "metadata": {
        "id": "RKtQn57hRMM8",
        "colab_type": "code",
        "outputId": "7a3cbfe9-9c1c-4f08-c6b6-a231974ec0e6",
        "colab": {
          "base_uri": "https://localhost:8080/",
          "height": 608
        }
      },
      "source": [
        "fig = plt.figure(figsize=(10, 7))\n",
        "ax = fig.add_axes([1, 1, 1, 1]);\n",
        "#\n",
        "# Raw data\n",
        "#\n",
        "ax.scatter(df_one_year.Day_of_Year, \n",
        "           df_one_year.TempAvgF, \n",
        "           label = 'Raw Data', c = 'k')\n",
        "#\n",
        "# Moving averages\n",
        "#\n",
        "ax.plot(df_one_year.Day_of_Year,\n",
        "        df_one_year['20_d_mov_avg'], \n",
        "        c = 'r', \n",
        "        linestyle = '--', \n",
        "        label = f'{window} day moving average')\n",
        "#\n",
        "ax.set_title('Air Temperature Measurements',\n",
        "             fontsize = 16)\n",
        "ax.set_xlabel('Day', \n",
        "              fontsize = 14)\n",
        "ax.set_ylabel('Temperature ($^\\circ$F)', \n",
        "              fontsize = 14)\n",
        "ax.set_xticks(range(df_one_year.Day_of_Year.min(), \n",
        "                    df_one_year.Day_of_Year.max(), \n",
        "                    30))\n",
        "ax.tick_params(labelsize = 12)\n",
        "ax.legend(fontsize = 12)"
      ],
      "execution_count": 0,
      "outputs": [
        {
          "output_type": "execute_result",
          "data": {
            "text/plain": [
              "<matplotlib.legend.Legend at 0x7f9b1d190400>"
            ]
          },
          "metadata": {
            "tags": []
          },
          "execution_count": 32
        },
        {
          "output_type": "display_data",
          "data": {
            "image/png": "[encoded data removed]",
            "text/plain": [
              "<Figure size 720x504 with 1 Axes>"
            ]
          },
          "metadata": {
            "tags": []
          }
        }
      ]
    },
    {
      "cell_type": "code",
      "metadata": {
        "id": "UMPUpLhfwWLw",
        "colab_type": "code",
        "outputId": "91075174-8429-41e8-8c4a-11e3bbf32446",
        "colab": {
          "base_uri": "https://localhost:8080/",
          "height": 68
        }
      },
      "source": [
        "#\n",
        "# fit a linear model\n",
        "linear_model = LinearRegression(fit_intercept = True)\n",
        "linear_model.fit(df_one_year.Day_of_Year.values.reshape((-1, 1)),\n",
        "                 df_one_year.TempAvgF)\n",
        "print('model slope: ', linear_model.coef_)\n",
        "print('model intercept: ', linear_model.intercept_)\n",
        "print('model r squared: ', \n",
        "      linear_model.score(df_one_year.Day_of_Year.values.reshape((-1, 1)),\n",
        "                         df_one_year.TempAvgF))"
      ],
      "execution_count": 0,
      "outputs": [
        {
          "output_type": "stream",
          "text": [
            "model slope:  [0.04304568]\n",
            "model intercept:  62.2349691404486\n",
            "model r squared:  0.09549593659736455\n"
          ],
          "name": "stdout"
        }
      ]
    }
  ]
}