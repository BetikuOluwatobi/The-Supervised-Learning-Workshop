{
  "nbformat": 4,
  "nbformat_minor": 0,
  "metadata": {
    "colab": {
      "name": "Exercise 2.03.ipynb",
      "provenance": [],
      "collapsed_sections": []
    },
    "kernelspec": {
      "name": "python3",
      "display_name": "Python 3"
    }
  },
  "cells": [
    {
      "cell_type": "code",
      "metadata": {
        "id": "aUcSSVlSOGoA",
        "colab_type": "code",
        "colab": {}
      },
      "source": [
        "import pandas as pd\n",
        "import matplotlib.pyplot as plt\n",
        "from sklearn.linear_model import LinearRegression"
      ],
      "execution_count": 0,
      "outputs": []
    },
    {
      "cell_type": "code",
      "metadata": {
        "id": "kDn9hp3dPX5G",
        "colab_type": "code",
        "colab": {}
      },
      "source": [
        "#\n",
        "# load data\n",
        "#\n",
        "df = pd.read_csv('synth_temp.csv')"
      ],
      "execution_count": 0,
      "outputs": []
    },
    {
      "cell_type": "code",
      "metadata": {
        "id": "Uwq6JDp7pGUq",
        "colab_type": "code",
        "outputId": "49abceb5-2558-4d3c-b6c2-bc59f68bf398",
        "colab": {
          "base_uri": "https://localhost:8080/",
          "height": 357
        }
      },
      "source": [
        "#\n",
        "# slice 1902 and forward\n",
        "#\n",
        "print(df.head())\n",
        "df = df.loc[df.Year > 1901]\n",
        "print(df.head)"
      ],
      "execution_count": 0,
      "outputs": [
        {
          "output_type": "stream",
          "text": [
            "  Region  Year  RgnAvTemp\n",
            "0      A  1841  12.294252\n",
            "1      B  1841  14.000614\n",
            "2      E  1841  11.398660\n",
            "3      F  1841  13.189420\n",
            "4      A  1842  11.690257\n",
            "<bound method NDFrame.head of      Region  Year  RgnAvTemp\n",
            "292       A  1902  16.932383\n",
            "293       B  1902  18.294661\n",
            "294       C  1902  17.522463\n",
            "295       D  1902  18.353418\n",
            "296       E  1902  15.669523\n",
            "...     ...   ...        ...\n",
            "1619      H  2010  11.784998\n",
            "1620      I  2010  22.574168\n",
            "1621      J  2010  16.908291\n",
            "1622      K  2010  19.780529\n",
            "1623      L  2010  19.921533\n",
            "\n",
            "[1332 rows x 3 columns]>\n"
          ],
          "name": "stdout"
        }
      ]
    },
    {
      "cell_type": "code",
      "metadata": {
        "id": "JjrL_hZYQdk9",
        "colab_type": "code",
        "outputId": "175c05c6-cd79-4628-da6f-e60d41713c43",
        "colab": {
          "base_uri": "https://localhost:8080/",
          "height": 493
        }
      },
      "source": [
        "#\n",
        "# roll up by year\n",
        "#\n",
        "df_group_year = df.groupby(['Year', 'Region']).agg({'RgnAvTemp':'mean'})\n",
        "#\n",
        "# note that the .droplevel() method removes the multiindex \n",
        "# added by the .agg() method() to make things simpler\n",
        "# later on in our analysis\n",
        "#\n",
        "print(df_group_year.head(12))\n",
        "print(df_group_year.tail(12))"
      ],
      "execution_count": 0,
      "outputs": [
        {
          "output_type": "stream",
          "text": [
            "             RgnAvTemp\n",
            "Year Region           \n",
            "1902 A       16.932383\n",
            "     B       18.294661\n",
            "     C       17.522463\n",
            "     D       18.353418\n",
            "     E       15.669523\n",
            "     F       17.438122\n",
            "     G       19.666101\n",
            "     H       10.497845\n",
            "     I       19.979361\n",
            "     J       16.341659\n",
            "     K       15.952242\n",
            "     L       17.443564\n",
            "             RgnAvTemp\n",
            "Year Region           \n",
            "2010 A       18.933159\n",
            "     B       21.117157\n",
            "     C       20.140428\n",
            "     D       20.784400\n",
            "     E       19.516141\n",
            "     F       19.903760\n",
            "     G       23.313424\n",
            "     H       11.784998\n",
            "     I       22.574168\n",
            "     J       16.908291\n",
            "     K       19.780529\n",
            "     L       19.921533\n"
          ],
          "name": "stdout"
        }
      ]
    },
    {
      "cell_type": "code",
      "metadata": {
        "id": "orClyQArGI8l",
        "colab_type": "code",
        "colab": {}
      },
      "source": [
        "#\n",
        "# add the Year column so we can use that in a model\n",
        "#\n",
        "df_group_year['Year'] = df_group_year.index.get_level_values(0)\n",
        "#\n",
        "# add the region column so we can use that for dummy variables\n",
        "#\n",
        "df_group_year['Region'] = df_group_year.index.get_level_values(1)\n",
        "#\n",
        "# reset the index on the long axis\n",
        "#\n",
        "df_group_year = df_group_year.droplevel(0, axis = 0)\n",
        "df_group_year = df_group_year.reset_index(drop = True)"
      ],
      "execution_count": 0,
      "outputs": []
    },
    {
      "cell_type": "code",
      "metadata": {
        "id": "Z3vmw-z0OG1s",
        "colab_type": "code",
        "outputId": "7a487f4b-9f68-4f23-936d-3e3d740c9911",
        "colab": {
          "base_uri": "https://localhost:8080/",
          "height": 221
        }
      },
      "source": [
        "#\n",
        "# convert the categorial variable 'region' to dummy vars\n",
        "#\n",
        "dummy_cols = pd.get_dummies(df_group_year.Region)\n",
        "df_group_year = pd.concat([df_group_year, dummy_cols], \n",
        "                          axis = 1).drop('Region', axis = 1)\n",
        "print(df_group_year.head())\n",
        "print(df_group_year.tail())"
      ],
      "execution_count": 0,
      "outputs": [
        {
          "output_type": "stream",
          "text": [
            "   RgnAvTemp  Year  A  B  C  D  E  F  G  H  I  J  K  L\n",
            "0  16.932383  1902  1  0  0  0  0  0  0  0  0  0  0  0\n",
            "1  18.294661  1902  0  1  0  0  0  0  0  0  0  0  0  0\n",
            "2  17.522463  1902  0  0  1  0  0  0  0  0  0  0  0  0\n",
            "3  18.353418  1902  0  0  0  1  0  0  0  0  0  0  0  0\n",
            "4  15.669523  1902  0  0  0  0  1  0  0  0  0  0  0  0\n",
            "      RgnAvTemp  Year  A  B  C  D  E  F  G  H  I  J  K  L\n",
            "1303  11.784998  2010  0  0  0  0  0  0  0  1  0  0  0  0\n",
            "1304  22.574168  2010  0  0  0  0  0  0  0  0  1  0  0  0\n",
            "1305  16.908291  2010  0  0  0  0  0  0  0  0  0  1  0  0\n",
            "1306  19.780529  2010  0  0  0  0  0  0  0  0  0  0  1  0\n",
            "1307  19.921533  2010  0  0  0  0  0  0  0  0  0  0  0  1\n"
          ],
          "name": "stdout"
        }
      ]
    },
    {
      "cell_type": "code",
      "metadata": {
        "id": "MC8SE-JIQN8L",
        "colab_type": "code",
        "outputId": "0c4c6e81-01b8-47a6-b056-c763a0e75cd1",
        "colab": {
          "base_uri": "https://localhost:8080/",
          "height": 34
        }
      },
      "source": [
        "linear_model = LinearRegression(fit_intercept = True)\n",
        "linear_model.fit(df_group_year.loc[:, 'Year':'L'],\n",
        "                 df_group_year.RgnAvTemp)\n",
        "r2 = linear_model.score(df_group_year.loc[:, 'Year':'L'],\n",
        "                 df_group_year.RgnAvTemp)\n",
        "print('r squared ', r2)"
      ],
      "execution_count": 0,
      "outputs": [
        {
          "output_type": "stream",
          "text": [
            "r squared  0.7616922090074043\n"
          ],
          "name": "stdout"
        }
      ]
    },
    {
      "cell_type": "code",
      "metadata": {
        "id": "0Y8AvbS7hlbV",
        "colab_type": "code",
        "colab": {}
      },
      "source": [
        "#\n",
        "# construct data to predict from model\n",
        "#\n",
        "pred_X = df_group_year.drop('RgnAvTemp', axis = 1)\n",
        "pred_Y = linear_model.predict(pred_X.values)\n",
        "preds = pd.concat([pd.Series(pred_X.Year),  pd.Series(pred_Y)], axis = 1)\n",
        "preds = preds.groupby('Year').agg('mean')\n",
        "preds.columns = ['AvTemp']"
      ],
      "execution_count": 0,
      "outputs": []
    },
    {
      "cell_type": "code",
      "metadata": {
        "id": "gU9rXSvcizmR",
        "colab_type": "code",
        "outputId": "818e4499-58af-484b-99f5-9cec499d3c87",
        "colab": {
          "base_uri": "https://localhost:8080/",
          "height": 450
        }
      },
      "source": [
        "preds"
      ],
      "execution_count": 0,
      "outputs": [
        {
          "output_type": "execute_result",
          "data": {
            "text/html": [
              "<div>\n",
              "<style scoped>\n",
              "    .dataframe tbody tr th:only-of-type {\n",
              "        vertical-align: middle;\n",
              "    }\n",
              "\n",
              "    .dataframe tbody tr th {\n",
              "        vertical-align: top;\n",
              "    }\n",
              "\n",
              "    .dataframe thead th {\n",
              "        text-align: right;\n",
              "    }\n",
              "</style>\n",
              "<table border=\"1\" class=\"dataframe\">\n",
              "  <thead>\n",
              "    <tr style=\"text-align: right;\">\n",
              "      <th></th>\n",
              "      <th>AvTemp</th>\n",
              "    </tr>\n",
              "    <tr>\n",
              "      <th>Year</th>\n",
              "      <th></th>\n",
              "    </tr>\n",
              "  </thead>\n",
              "  <tbody>\n",
              "    <tr>\n",
              "      <th>1902</th>\n",
              "      <td>16.775808</td>\n",
              "    </tr>\n",
              "    <tr>\n",
              "      <th>1903</th>\n",
              "      <td>16.799722</td>\n",
              "    </tr>\n",
              "    <tr>\n",
              "      <th>1904</th>\n",
              "      <td>16.823635</td>\n",
              "    </tr>\n",
              "    <tr>\n",
              "      <th>1905</th>\n",
              "      <td>16.847548</td>\n",
              "    </tr>\n",
              "    <tr>\n",
              "      <th>1906</th>\n",
              "      <td>16.871461</td>\n",
              "    </tr>\n",
              "    <tr>\n",
              "      <th>...</th>\n",
              "      <td>...</td>\n",
              "    </tr>\n",
              "    <tr>\n",
              "      <th>2006</th>\n",
              "      <td>19.262782</td>\n",
              "    </tr>\n",
              "    <tr>\n",
              "      <th>2007</th>\n",
              "      <td>19.286695</td>\n",
              "    </tr>\n",
              "    <tr>\n",
              "      <th>2008</th>\n",
              "      <td>19.310609</td>\n",
              "    </tr>\n",
              "    <tr>\n",
              "      <th>2009</th>\n",
              "      <td>19.334522</td>\n",
              "    </tr>\n",
              "    <tr>\n",
              "      <th>2010</th>\n",
              "      <td>19.358435</td>\n",
              "    </tr>\n",
              "  </tbody>\n",
              "</table>\n",
              "<p>109 rows × 1 columns</p>\n",
              "</div>"
            ],
            "text/plain": [
              "         AvTemp\n",
              "Year           \n",
              "1902  16.775808\n",
              "1903  16.799722\n",
              "1904  16.823635\n",
              "1905  16.847548\n",
              "1906  16.871461\n",
              "...         ...\n",
              "2006  19.262782\n",
              "2007  19.286695\n",
              "2008  19.310609\n",
              "2009  19.334522\n",
              "2010  19.358435\n",
              "\n",
              "[109 rows x 1 columns]"
            ]
          },
          "metadata": {
            "tags": []
          },
          "execution_count": 116
        }
      ]
    },
    {
      "cell_type": "code",
      "metadata": {
        "id": "zZxJdUGHQ5TD",
        "colab_type": "code",
        "outputId": "b0c74df0-a65d-478d-e009-a8ac16599cfd",
        "colab": {
          "base_uri": "https://localhost:8080/",
          "height": 608
        }
      },
      "source": [
        "fig = plt.figure(figsize=(10, 7))\n",
        "ax = fig.add_axes([1, 1, 1, 1]);\n",
        "#\n",
        "# Raw data\n",
        "#\n",
        "raw_plot_data = df[df.Year > 1901]\n",
        "ax.scatter(raw_plot_data.Year, \n",
        "           raw_plot_data.RgnAvTemp, \n",
        "           label = 'Raw Data', \n",
        "           c = 'red', \n",
        "           s = 1.5)\n",
        "#\n",
        "# Annual averages\n",
        "#\n",
        "annual_plot_data = df_group_year.groupby('Year').agg('mean')\n",
        "ax.scatter(annual_plot_data.index, \n",
        "           annual_plot_data.RgnAvTemp, \n",
        "           label = 'Annual average', \n",
        "           c = 'k',\n",
        "           s = 10)\n",
        "#\n",
        "# linear fit\n",
        "#\n",
        "ax.plot(preds.index,\n",
        "           preds.AvTemp, \n",
        "           c = \"blue\",\n",
        "           linestyle = '-.',\n",
        "           linewidth = 4,\n",
        "           label = 'linear fit')\n",
        "#\n",
        "ax.set_title('Mean Air Temperature Measurements',\n",
        "             fontsize = 16)\n",
        "#\n",
        "# make the ticks include the first and last years\n",
        "#\n",
        "tick_years = [1902] + list(range(1910, 2011, 10))\n",
        "ax.set_xlabel('Year', \n",
        "              fontsize = 14)\n",
        "ax.set_ylabel('Temperature ($^\\circ$C)', \n",
        "              fontsize = 14)\n",
        "ax.set_ylim(16, 20)\n",
        "ax.set_xticks(tick_years)\n",
        "ax.tick_params(labelsize = 12)\n",
        "ax.legend(fontsize = 12)"
      ],
      "execution_count": 0,
      "outputs": [
        {
          "output_type": "execute_result",
          "data": {
            "text/plain": [
              "<matplotlib.legend.Legend at 0x7f1c72fb73c8>"
            ]
          },
          "metadata": {
            "tags": []
          },
          "execution_count": 134
        },
        {
          "output_type": "display_data",
          "data": {
            "image/png": "[encoded data removed]",
            "text/plain": [
              "<Figure size 720x504 with 1 Axes>"
            ]
          },
          "metadata": {
            "tags": []
          }
        }
      ]
    }
  ]
}