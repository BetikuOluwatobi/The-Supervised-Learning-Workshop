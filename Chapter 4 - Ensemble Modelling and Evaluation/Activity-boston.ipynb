{
 "cells": [
  {
   "cell_type": "code",
   "execution_count": 1,
   "metadata": {},
   "outputs": [],
   "source": [
    "import pandas as pd\n",
    "import numpy as np\n",
    "import seaborn as sns\n",
    "\n",
    "%matplotlib inline\n",
    "import matplotlib.pyplot as plt\n",
    "\n",
    "from sklearn.model_selection import train_test_split\n",
    "from sklearn.metrics import mean_absolute_error\n",
    "from sklearn.model_selection import KFold\n",
    "from sklearn.linear_model import LinearRegression\n",
    "from sklearn.tree import DecisionTreeRegressor\n",
    "from sklearn.neighbors import KNeighborsRegressor\n",
    "from sklearn.ensemble import GradientBoostingRegressor, RandomForestRegressor"
   ]
  },
  {
   "cell_type": "markdown",
   "metadata": {},
   "source": [
    "## Read and preprocess data"
   ]
  },
  {
   "cell_type": "code",
   "execution_count": 2,
   "metadata": {},
   "outputs": [
    {
     "data": {
      "text/html": [
       "<div>\n",
       "<style scoped>\n",
       "    .dataframe tbody tr th:only-of-type {\n",
       "        vertical-align: middle;\n",
       "    }\n",
       "\n",
       "    .dataframe tbody tr th {\n",
       "        vertical-align: top;\n",
       "    }\n",
       "\n",
       "    .dataframe thead th {\n",
       "        text-align: right;\n",
       "    }\n",
       "</style>\n",
       "<table border=\"1\" class=\"dataframe\">\n",
       "  <thead>\n",
       "    <tr style=\"text-align: right;\">\n",
       "      <th></th>\n",
       "      <th>CRIM</th>\n",
       "      <th>ZN</th>\n",
       "      <th>INDUS</th>\n",
       "      <th>CHAS</th>\n",
       "      <th>NOX</th>\n",
       "      <th>RM</th>\n",
       "      <th>AGE</th>\n",
       "      <th>DIS</th>\n",
       "      <th>RAD</th>\n",
       "      <th>TAX</th>\n",
       "      <th>PTRATIO</th>\n",
       "      <th>B</th>\n",
       "      <th>LSTAT</th>\n",
       "      <th>PRICE</th>\n",
       "    </tr>\n",
       "  </thead>\n",
       "  <tbody>\n",
       "    <tr>\n",
       "      <td>0</td>\n",
       "      <td>0.00632</td>\n",
       "      <td>18.0</td>\n",
       "      <td>2.31</td>\n",
       "      <td>0.0</td>\n",
       "      <td>0.538</td>\n",
       "      <td>6.575</td>\n",
       "      <td>65.2</td>\n",
       "      <td>4.0900</td>\n",
       "      <td>1.0</td>\n",
       "      <td>296.0</td>\n",
       "      <td>15.3</td>\n",
       "      <td>396.90</td>\n",
       "      <td>4.98</td>\n",
       "      <td>24.0</td>\n",
       "    </tr>\n",
       "    <tr>\n",
       "      <td>1</td>\n",
       "      <td>0.02731</td>\n",
       "      <td>0.0</td>\n",
       "      <td>7.07</td>\n",
       "      <td>0.0</td>\n",
       "      <td>0.469</td>\n",
       "      <td>6.421</td>\n",
       "      <td>78.9</td>\n",
       "      <td>4.9671</td>\n",
       "      <td>2.0</td>\n",
       "      <td>242.0</td>\n",
       "      <td>17.8</td>\n",
       "      <td>396.90</td>\n",
       "      <td>9.14</td>\n",
       "      <td>21.6</td>\n",
       "    </tr>\n",
       "    <tr>\n",
       "      <td>2</td>\n",
       "      <td>0.02729</td>\n",
       "      <td>0.0</td>\n",
       "      <td>7.07</td>\n",
       "      <td>0.0</td>\n",
       "      <td>0.469</td>\n",
       "      <td>7.185</td>\n",
       "      <td>61.1</td>\n",
       "      <td>4.9671</td>\n",
       "      <td>2.0</td>\n",
       "      <td>242.0</td>\n",
       "      <td>17.8</td>\n",
       "      <td>392.83</td>\n",
       "      <td>4.03</td>\n",
       "      <td>34.7</td>\n",
       "    </tr>\n",
       "    <tr>\n",
       "      <td>3</td>\n",
       "      <td>0.03237</td>\n",
       "      <td>0.0</td>\n",
       "      <td>2.18</td>\n",
       "      <td>0.0</td>\n",
       "      <td>0.458</td>\n",
       "      <td>6.998</td>\n",
       "      <td>45.8</td>\n",
       "      <td>6.0622</td>\n",
       "      <td>3.0</td>\n",
       "      <td>222.0</td>\n",
       "      <td>18.7</td>\n",
       "      <td>394.63</td>\n",
       "      <td>2.94</td>\n",
       "      <td>33.4</td>\n",
       "    </tr>\n",
       "    <tr>\n",
       "      <td>4</td>\n",
       "      <td>0.06905</td>\n",
       "      <td>0.0</td>\n",
       "      <td>2.18</td>\n",
       "      <td>0.0</td>\n",
       "      <td>0.458</td>\n",
       "      <td>7.147</td>\n",
       "      <td>54.2</td>\n",
       "      <td>6.0622</td>\n",
       "      <td>3.0</td>\n",
       "      <td>222.0</td>\n",
       "      <td>18.7</td>\n",
       "      <td>396.90</td>\n",
       "      <td>5.33</td>\n",
       "      <td>36.2</td>\n",
       "    </tr>\n",
       "  </tbody>\n",
       "</table>\n",
       "</div>"
      ],
      "text/plain": [
       "      CRIM    ZN  INDUS  CHAS    NOX     RM   AGE     DIS  RAD    TAX  \\\n",
       "0  0.00632  18.0   2.31   0.0  0.538  6.575  65.2  4.0900  1.0  296.0   \n",
       "1  0.02731   0.0   7.07   0.0  0.469  6.421  78.9  4.9671  2.0  242.0   \n",
       "2  0.02729   0.0   7.07   0.0  0.469  7.185  61.1  4.9671  2.0  242.0   \n",
       "3  0.03237   0.0   2.18   0.0  0.458  6.998  45.8  6.0622  3.0  222.0   \n",
       "4  0.06905   0.0   2.18   0.0  0.458  7.147  54.2  6.0622  3.0  222.0   \n",
       "\n",
       "   PTRATIO       B  LSTAT  PRICE  \n",
       "0     15.3  396.90   4.98   24.0  \n",
       "1     17.8  396.90   9.14   21.6  \n",
       "2     17.8  392.83   4.03   34.7  \n",
       "3     18.7  394.63   2.94   33.4  \n",
       "4     18.7  396.90   5.33   36.2  "
      ]
     },
     "execution_count": 2,
     "metadata": {},
     "output_type": "execute_result"
    }
   ],
   "source": [
    "data = pd.read_csv('boston_house_prices.csv')\n",
    "data.head()"
   ]
  },
  {
   "cell_type": "code",
   "execution_count": 3,
   "metadata": {},
   "outputs": [
    {
     "data": {
      "text/plain": [
       "['CRIM',\n",
       " 'ZN',\n",
       " 'INDUS',\n",
       " 'CHAS',\n",
       " 'NOX',\n",
       " 'RM',\n",
       " 'AGE',\n",
       " 'DIS',\n",
       " 'RAD',\n",
       " 'TAX',\n",
       " 'PTRATIO',\n",
       " 'B',\n",
       " 'LSTAT',\n",
       " 'PRICE']"
      ]
     },
     "execution_count": 3,
     "metadata": {},
     "output_type": "execute_result"
    }
   ],
   "source": [
    "perc_missing = data.isnull().mean()*100\n",
    "cols = perc_missing[perc_missing < 10].index.tolist() \n",
    "cols"
   ]
  },
  {
   "cell_type": "code",
   "execution_count": 4,
   "metadata": {},
   "outputs": [],
   "source": [
    "data_final = data.fillna(-1)"
   ]
  },
  {
   "cell_type": "code",
   "execution_count": 5,
   "metadata": {},
   "outputs": [],
   "source": [
    "train, val = train, val = train_test_split(data_final, test_size=0.2, random_state=11)\n",
    "\n",
    "x_train = train.drop(columns=['PRICE'])\n",
    "y_train = train['PRICE'].values\n",
    "\n",
    "x_val = val.drop(columns=['PRICE'])\n",
    "y_val = val['PRICE'].values"
   ]
  },
  {
   "cell_type": "code",
   "execution_count": 6,
   "metadata": {},
   "outputs": [],
   "source": [
    "train_mae_values, val_mae_values = {}, {}"
   ]
  },
  {
   "cell_type": "markdown",
   "metadata": {},
   "source": [
    "## Build individual models for comparison"
   ]
  },
  {
   "cell_type": "code",
   "execution_count": 7,
   "metadata": {},
   "outputs": [],
   "source": [
    "# Decision Tree\n",
    "\n",
    "dt_params = {\n",
    "    'criterion': 'mae',\n",
    "    'min_samples_leaf': 15,\n",
    "    'random_state': 11\n",
    "}\n",
    "\n",
    "dt = DecisionTreeRegressor(**dt_params)\n",
    "\n",
    "dt.fit(x_train, y_train)\n",
    "dt_preds_train = dt.predict(x_train)\n",
    "dt_preds_val = dt.predict(x_val)\n",
    "\n",
    "train_mae_values['dt'] = mean_absolute_error(y_true=y_train, y_pred=dt_preds_train)\n",
    "val_mae_values['dt'] = mean_absolute_error(y_true=y_val, y_pred=dt_preds_val)"
   ]
  },
  {
   "cell_type": "code",
   "execution_count": 8,
   "metadata": {},
   "outputs": [],
   "source": [
    "# k-Nearest Neighbours\n",
    "\n",
    "knn_params = {\n",
    "    'n_neighbors': 5\n",
    "}\n",
    "\n",
    "knn = KNeighborsRegressor(**knn_params)\n",
    "\n",
    "knn.fit(x_train, y_train)\n",
    "knn_preds_train = knn.predict(x_train)\n",
    "knn_preds_val = knn.predict(x_val)\n",
    "\n",
    "train_mae_values['knn'] = mean_absolute_error(y_true=y_train, y_pred=knn_preds_train)\n",
    "val_mae_values['knn'] = mean_absolute_error(y_true=y_val, y_pred=knn_preds_val)"
   ]
  },
  {
   "cell_type": "code",
   "execution_count": 9,
   "metadata": {},
   "outputs": [],
   "source": [
    "# Random Forest\n",
    "\n",
    "rf_params = {\n",
    "    'n_estimators': 20,\n",
    "    'criterion': 'mae',\n",
    "    'max_features': 'sqrt',\n",
    "    'min_samples_leaf': 10,\n",
    "    'random_state': 11,\n",
    "    'n_jobs': -1\n",
    "}\n",
    "\n",
    "rf = RandomForestRegressor(**rf_params)\n",
    "\n",
    "rf.fit(x_train, y_train)\n",
    "rf_preds_train = rf.predict(x_train)\n",
    "rf_preds_val = rf.predict(x_val)\n",
    "\n",
    "train_mae_values['rf'] = mean_absolute_error(y_true=y_train, y_pred=rf_preds_train)\n",
    "val_mae_values['rf'] = mean_absolute_error(y_true=y_val, y_pred=rf_preds_val)"
   ]
  },
  {
   "cell_type": "code",
   "execution_count": 10,
   "metadata": {},
   "outputs": [],
   "source": [
    "# Gradient Boosting\n",
    "\n",
    "gbr_params = {\n",
    "    'n_estimators': 20,\n",
    "    'criterion': 'mae',\n",
    "    'max_features': 'sqrt',\n",
    "    'max_depth': 3,\n",
    "    'min_samples_leaf': 10,\n",
    "    'random_state': 11\n",
    "}\n",
    "\n",
    "gbr = GradientBoostingRegressor(**gbr_params)\n",
    "\n",
    "gbr.fit(x_train, y_train)\n",
    "gbr_preds_train = gbr.predict(x_train)\n",
    "gbr_preds_val = gbr.predict(x_val)\n",
    "\n",
    "train_mae_values['gbr'] = mean_absolute_error(y_true=y_train, y_pred=gbr_preds_train)\n",
    "val_mae_values['gbr'] = mean_absolute_error(y_true=y_val, y_pred=gbr_preds_val)"
   ]
  },
  {
   "cell_type": "markdown",
   "metadata": {},
   "source": [
    "## Stacked model"
   ]
  },
  {
   "cell_type": "code",
   "execution_count": 11,
   "metadata": {},
   "outputs": [],
   "source": [
    "num_base_predictors = len(train_mae_values) # 4\n",
    "\n",
    "x_train_with_metapreds = np.zeros((x_train.shape[0], x_train.shape[1]+num_base_predictors))\n",
    "x_train_with_metapreds[:, :-num_base_predictors] = x_train\n",
    "x_train_with_metapreds[:, -num_base_predictors:] = -1"
   ]
  },
  {
   "cell_type": "code",
   "execution_count": 12,
   "metadata": {},
   "outputs": [],
   "source": [
    "kf = KFold(n_splits=5, random_state=11)\n",
    "\n",
    "for train_indices, val_indices in kf.split(x_train):\n",
    "    kfold_x_train, kfold_x_val = x_train.iloc[train_indices], x_train.iloc[val_indices]\n",
    "    kfold_y_train, kfold_y_val = y_train[train_indices], y_train[val_indices]\n",
    "    \n",
    "    predictions = []\n",
    "    \n",
    "    dt = DecisionTreeRegressor(**dt_params)\n",
    "    dt.fit(kfold_x_train, kfold_y_train)\n",
    "    predictions.append(dt.predict(kfold_x_val))\n",
    "\n",
    "    knn = KNeighborsRegressor(**knn_params)\n",
    "    knn.fit(kfold_x_train, kfold_y_train)\n",
    "    predictions.append(knn.predict(kfold_x_val))\n",
    "\n",
    "    gbr = GradientBoostingRegressor(**gbr_params)\n",
    "    rf.fit(kfold_x_train, kfold_y_train)\n",
    "    predictions.append(rf.predict(kfold_x_val))\n",
    "\n",
    "    gbr = GradientBoostingRegressor(**gbr_params)\n",
    "    gbr.fit(kfold_x_train, kfold_y_train)\n",
    "    predictions.append(gbr.predict(kfold_x_val))\n",
    "    \n",
    "    for i, preds in enumerate(predictions):\n",
    "        x_train_with_metapreds[val_indices, -(i+1)] = preds"
   ]
  },
  {
   "cell_type": "code",
   "execution_count": 13,
   "metadata": {},
   "outputs": [],
   "source": [
    "x_val_with_metapreds = np.zeros((x_val.shape[0], x_val.shape[1]+num_base_predictors))\n",
    "x_val_with_metapreds[:, :-num_base_predictors] = x_val\n",
    "x_val_with_metapreds[:, -num_base_predictors:] = -1"
   ]
  },
  {
   "cell_type": "code",
   "execution_count": 14,
   "metadata": {},
   "outputs": [],
   "source": [
    "predictions = []\n",
    "    \n",
    "dt = DecisionTreeRegressor(**dt_params)\n",
    "dt.fit(x_train, y_train)\n",
    "predictions.append(dt.predict(x_val))\n",
    "\n",
    "knn = KNeighborsRegressor(**knn_params)\n",
    "knn.fit(x_train, y_train)\n",
    "predictions.append(knn.predict(x_val))\n",
    "\n",
    "gbr = GradientBoostingRegressor(**gbr_params)\n",
    "rf.fit(x_train, y_train)\n",
    "predictions.append(rf.predict(x_val))\n",
    "\n",
    "gbr = GradientBoostingRegressor(**gbr_params)\n",
    "gbr.fit(x_train, y_train)\n",
    "predictions.append(gbr.predict(x_val))\n",
    "\n",
    "for i, preds in enumerate(predictions):\n",
    "    x_val_with_metapreds[:, -(i+1)] = preds"
   ]
  },
  {
   "cell_type": "code",
   "execution_count": 15,
   "metadata": {},
   "outputs": [],
   "source": [
    "lr = LinearRegression(normalize=True)\n",
    "lr.fit(x_train_with_metapreds, y_train)\n",
    "lr_preds_train = lr.predict(x_train_with_metapreds)\n",
    "lr_preds_val = lr.predict(x_val_with_metapreds)\n",
    "\n",
    "train_mae_values['lr'] = mean_absolute_error(y_true=y_train, y_pred=lr_preds_train)\n",
    "val_mae_values['lr'] = mean_absolute_error(y_true=y_val, y_pred=lr_preds_val)"
   ]
  },
  {
   "cell_type": "markdown",
   "metadata": {},
   "source": [
    "## Visualising errors"
   ]
  },
  {
   "cell_type": "code",
   "execution_count": 16,
   "metadata": {},
   "outputs": [
    {
     "data": {
      "text/html": [
       "<div>\n",
       "<style scoped>\n",
       "    .dataframe tbody tr th:only-of-type {\n",
       "        vertical-align: middle;\n",
       "    }\n",
       "\n",
       "    .dataframe tbody tr th {\n",
       "        vertical-align: top;\n",
       "    }\n",
       "\n",
       "    .dataframe thead th {\n",
       "        text-align: right;\n",
       "    }\n",
       "</style>\n",
       "<table border=\"1\" class=\"dataframe\">\n",
       "  <thead>\n",
       "    <tr style=\"text-align: right;\">\n",
       "      <th></th>\n",
       "      <th>train</th>\n",
       "      <th>val</th>\n",
       "    </tr>\n",
       "  </thead>\n",
       "  <tbody>\n",
       "    <tr>\n",
       "      <td>dt</td>\n",
       "      <td>2.384406</td>\n",
       "      <td>3.282353</td>\n",
       "    </tr>\n",
       "    <tr>\n",
       "      <td>knn</td>\n",
       "      <td>3.455545</td>\n",
       "      <td>3.978039</td>\n",
       "    </tr>\n",
       "    <tr>\n",
       "      <td>rf</td>\n",
       "      <td>2.316120</td>\n",
       "      <td>3.029828</td>\n",
       "    </tr>\n",
       "    <tr>\n",
       "      <td>gbr</td>\n",
       "      <td>2.463436</td>\n",
       "      <td>3.058634</td>\n",
       "    </tr>\n",
       "    <tr>\n",
       "      <td>lr</td>\n",
       "      <td>2.248086</td>\n",
       "      <td>2.850166</td>\n",
       "    </tr>\n",
       "  </tbody>\n",
       "</table>\n",
       "</div>"
      ],
      "text/plain": [
       "        train       val\n",
       "dt   2.384406  3.282353\n",
       "knn  3.455545  3.978039\n",
       "rf   2.316120  3.029828\n",
       "gbr  2.463436  3.058634\n",
       "lr   2.248086  2.850166"
      ]
     },
     "execution_count": 16,
     "metadata": {},
     "output_type": "execute_result"
    }
   ],
   "source": [
    "mae_scores = pd.concat([pd.Series(train_mae_values, name='train'), \n",
    "                        pd.Series(val_mae_values, name='val')], \n",
    "                       axis=1)\n",
    "mae_scores"
   ]
  },
  {
   "cell_type": "code",
   "execution_count": 17,
   "metadata": {},
   "outputs": [
    {
     "data": {
      "image/png": "[encoded data removed]",
      "text/plain": [
       "<Figure size 720x504 with 1 Axes>"
      ]
     },
     "metadata": {
      "needs_background": "light"
     },
     "output_type": "display_data"
    }
   ],
   "source": [
    "mae_scores.plot(kind='bar', figsize=(10,7))\n",
    "plt.ylabel('MAE')\n",
    "plt.xlabel('Model')\n",
    "plt.show()"
   ]
  },
  {
   "cell_type": "code",
   "execution_count": null,
   "metadata": {},
   "outputs": [],
   "source": []
  },
  {
   "cell_type": "markdown",
   "metadata": {},
   "source": [
    "### Optionally, save the linear regression stacking model"
   ]
  },
  {
   "cell_type": "code",
   "execution_count": 18,
   "metadata": {},
   "outputs": [],
   "source": [
    "import pickle\n",
    "with open('../Saved Models/stacked_linear_regression.pkl', 'wb') as f:\n",
    "    pickle.dump(lr, f)"
   ]
  },
  {
   "cell_type": "markdown",
   "metadata": {},
   "source": [
    "### Also optionally, save the boston house prices regression dataset"
   ]
  },
  {
   "cell_type": "code",
   "execution_count": 19,
   "metadata": {},
   "outputs": [],
   "source": [
    "df_house_prices_regression = pd.DataFrame(x_val_with_metapreds)\n",
    "df_house_prices_regression['y'] = y_val"
   ]
  },
  {
   "cell_type": "code",
   "execution_count": 20,
   "metadata": {},
   "outputs": [],
   "source": [
    "df_house_prices_regression.to_csv('./boston_house_prices_regression.csv', index=False)"
   ]
  },
  {
   "cell_type": "code",
   "execution_count": null,
   "metadata": {},
   "outputs": [],
   "source": []
  }
 ],
 "metadata": {
  "kernelspec": {
   "display_name": "Python 3",
   "language": "python",
   "name": "python3"
  },
  "language_info": {
   "codemirror_mode": {
    "name": "ipython",
    "version": 3
   },
   "file_extension": ".py",
   "mimetype": "text/x-python",
   "name": "python",
   "nbconvert_exporter": "python",
   "pygments_lexer": "ipython3",
   "version": "3.7.4"
  }
 },
 "nbformat": 4,
 "nbformat_minor": 2
}
