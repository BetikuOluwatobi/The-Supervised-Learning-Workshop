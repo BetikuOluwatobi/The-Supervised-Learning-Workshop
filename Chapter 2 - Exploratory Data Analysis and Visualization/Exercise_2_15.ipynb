{
 "cells": [
  {
   "cell_type": "code",
   "execution_count": 110,
   "metadata": {},
   "outputs": [],
   "source": [
    "import json\n",
    "import pandas as pd\n",
    "import numpy as np\n",
    "import missingno as msno\n",
    "from sklearn.impute import SimpleImputer\n",
    "import matplotlib.pyplot as plt\n",
    "import seaborn as sns"
   ]
  },
  {
   "cell_type": "code",
   "execution_count": 111,
   "metadata": {
    "scrolled": false
   },
   "outputs": [],
   "source": [
    "with open('dtypes.json', 'r') as jsonfile:\n",
    "    dtyp = json.load(jsonfile)"
   ]
  },
  {
   "cell_type": "code",
   "execution_count": 112,
   "metadata": {},
   "outputs": [
    {
     "data": {
      "text/plain": [
       "{'id': 'float',\n",
       " 'flag_tsunami': 'str',\n",
       " 'year': 'float',\n",
       " 'month': 'float',\n",
       " 'day': 'float',\n",
       " 'hour': 'float',\n",
       " 'minute': 'float',\n",
       " 'second': 'float',\n",
       " 'focal_depth': 'float',\n",
       " 'eq_primary': 'float',\n",
       " 'eq_mag_mw': 'float',\n",
       " 'eq_mag_ms': 'float',\n",
       " 'eq_mag_mb': 'float',\n",
       " 'intensity': 'float',\n",
       " 'country': 'str',\n",
       " 'state': 'str',\n",
       " 'location_name': 'str',\n",
       " 'latitude': 'float',\n",
       " 'longitude': 'float',\n",
       " 'region_code': 'str',\n",
       " 'injuries': 'float',\n",
       " 'injuries_description': 'str',\n",
       " 'damage_millions_dollars': 'float',\n",
       " 'damage_description': 'str',\n",
       " 'total_injuries': 'float',\n",
       " 'total_injuries_description': 'str',\n",
       " 'total_damage_millions_dollars': 'float',\n",
       " 'total_damage_description': 'str'}"
      ]
     },
     "execution_count": 112,
     "metadata": {},
     "output_type": "execute_result"
    }
   ],
   "source": [
    "dtyp"
   ]
  },
  {
   "cell_type": "code",
   "execution_count": 113,
   "metadata": {},
   "outputs": [],
   "source": [
    "data = pd.read_csv('earthquake_data.csv', dtype = dtyp)"
   ]
  },
  {
   "cell_type": "code",
   "execution_count": 114,
   "metadata": {},
   "outputs": [],
   "source": [
    "description_features = [\n",
    "    'injuries_description', 'damage_description',\n",
    "    'total_injuries_description', 'total_damage_description'\n",
    "]"
   ]
  },
  {
   "cell_type": "code",
   "execution_count": 115,
   "metadata": {},
   "outputs": [],
   "source": [
    "imp = SimpleImputer(missing_values=np.nan, strategy='constant', fill_value='NA')"
   ]
  },
  {
   "cell_type": "code",
   "execution_count": 116,
   "metadata": {},
   "outputs": [],
   "source": [
    "data[description_features] = imp.fit_transform(data[description_features])"
   ]
  },
  {
   "cell_type": "code",
   "execution_count": 117,
   "metadata": {
    "scrolled": true
   },
   "outputs": [
    {
     "data": {
      "text/html": [
       "<div>\n",
       "<style scoped>\n",
       "    .dataframe tbody tr th:only-of-type {\n",
       "        vertical-align: middle;\n",
       "    }\n",
       "\n",
       "    .dataframe tbody tr th {\n",
       "        vertical-align: top;\n",
       "    }\n",
       "\n",
       "    .dataframe thead th {\n",
       "        text-align: right;\n",
       "    }\n",
       "</style>\n",
       "<table border=\"1\" class=\"dataframe\">\n",
       "  <thead>\n",
       "    <tr style=\"text-align: right;\">\n",
       "      <th></th>\n",
       "      <th>damage_millions_dollars</th>\n",
       "    </tr>\n",
       "    <tr>\n",
       "      <th>damage_description</th>\n",
       "      <th></th>\n",
       "    </tr>\n",
       "  </thead>\n",
       "  <tbody>\n",
       "    <tr>\n",
       "      <th>1</th>\n",
       "      <td>0.417211</td>\n",
       "    </tr>\n",
       "    <tr>\n",
       "      <th>2</th>\n",
       "      <td>3.078840</td>\n",
       "    </tr>\n",
       "    <tr>\n",
       "      <th>3</th>\n",
       "      <td>13.818806</td>\n",
       "    </tr>\n",
       "    <tr>\n",
       "      <th>4</th>\n",
       "      <td>3574.998799</td>\n",
       "    </tr>\n",
       "    <tr>\n",
       "      <th>NA</th>\n",
       "      <td>NaN</td>\n",
       "    </tr>\n",
       "  </tbody>\n",
       "</table>\n",
       "</div>"
      ],
      "text/plain": [
       "                    damage_millions_dollars\n",
       "damage_description                         \n",
       "1                                  0.417211\n",
       "2                                  3.078840\n",
       "3                                 13.818806\n",
       "4                               3574.998799\n",
       "NA                                      NaN"
      ]
     },
     "execution_count": 117,
     "metadata": {},
     "output_type": "execute_result"
    }
   ],
   "source": [
    "category_means = data[['damage_description', 'damage_millions_dollars']].groupby('damage_description').mean()\n",
    "category_means"
   ]
  },
  {
   "cell_type": "code",
   "execution_count": 118,
   "metadata": {},
   "outputs": [
    {
     "data": {
      "text/plain": [
       "{'1': 0.4172105263157895,\n",
       " '2': 3.0788402777777772,\n",
       " '3': 13.818805970149256,\n",
       " '4': 3574.9987991266385,\n",
       " 'NA': -1,\n",
       " '0': 0}"
      ]
     },
     "execution_count": 118,
     "metadata": {},
     "output_type": "execute_result"
    }
   ],
   "source": [
    "replacement_values = category_means.damage_millions_dollars.to_dict()\n",
    "replacement_values['NA'] = -1\n",
    "replacement_values['0'] = 0\n",
    "replacement_values"
   ]
  },
  {
   "cell_type": "code",
   "execution_count": 119,
   "metadata": {},
   "outputs": [],
   "source": [
    "imputed_values = data.damage_description.map(replacement_values)"
   ]
  },
  {
   "cell_type": "code",
   "execution_count": 120,
   "metadata": {},
   "outputs": [],
   "source": [
    "data['damage_millions_dollars'] = np.where(data.damage_millions_dollars.isnull(),\n",
    "                                           data.damage_description.map(replacement_values),\n",
    "                                           data.damage_millions_dollars)"
   ]
  },
  {
   "cell_type": "code",
   "execution_count": 121,
   "metadata": {
    "scrolled": true
   },
   "outputs": [
    {
     "data": {
      "text/plain": [
       "Index(['id', 'year', 'month', 'day', 'hour', 'minute', 'second', 'focal_depth',\n",
       "       'eq_primary', 'eq_mag_mw', 'eq_mag_ms', 'eq_mag_mb', 'intensity',\n",
       "       'latitude', 'longitude', 'injuries', 'damage_millions_dollars',\n",
       "       'total_injuries', 'total_damage_millions_dollars'],\n",
       "      dtype='object')"
      ]
     },
     "execution_count": 121,
     "metadata": {},
     "output_type": "execute_result"
    }
   ],
   "source": [
    "numeric_variables = data.select_dtypes(include=[np.number])\n",
    "numeric_variables.columns"
   ]
  },
  {
   "cell_type": "code",
   "execution_count": 122,
   "metadata": {},
   "outputs": [
    {
     "data": {
      "text/plain": [
       "Index(['flag_tsunami', 'country', 'state', 'location_name', 'region_code',\n",
       "       'injuries_description', 'damage_description',\n",
       "       'total_injuries_description', 'total_damage_description'],\n",
       "      dtype='object')"
      ]
     },
     "execution_count": 122,
     "metadata": {},
     "output_type": "execute_result"
    }
   ],
   "source": [
    "object_variables = data.select_dtypes(include=[np.object])\n",
    "object_variables.columns"
   ]
  },
  {
   "cell_type": "code",
   "execution_count": 126,
   "metadata": {},
   "outputs": [],
   "source": [
    "data.loc[:,'flag_tsunami'] = data.flag_tsunami.apply(lambda t: int(str(t) == 'Tsu'))"
   ]
  },
  {
   "cell_type": "code",
   "execution_count": 127,
   "metadata": {},
   "outputs": [],
   "source": [
    "subset = data[~pd.isnull(data.intensity)][['intensity','flag_tsunami']]"
   ]
  },
  {
   "cell_type": "code",
   "execution_count": 129,
   "metadata": {
    "scrolled": false
   },
   "outputs": [
    {
     "data": {
      "text/html": [
       "<div>\n",
       "<style scoped>\n",
       "    .dataframe tbody tr th:only-of-type {\n",
       "        vertical-align: middle;\n",
       "    }\n",
       "\n",
       "    .dataframe tbody tr th {\n",
       "        vertical-align: top;\n",
       "    }\n",
       "\n",
       "    .dataframe thead th {\n",
       "        text-align: right;\n",
       "    }\n",
       "</style>\n",
       "<table border=\"1\" class=\"dataframe\">\n",
       "  <thead>\n",
       "    <tr style=\"text-align: right;\">\n",
       "      <th></th>\n",
       "      <th>flag_tsunami</th>\n",
       "    </tr>\n",
       "    <tr>\n",
       "      <th>intensity</th>\n",
       "      <th></th>\n",
       "    </tr>\n",
       "  </thead>\n",
       "  <tbody>\n",
       "    <tr>\n",
       "      <th>2.0</th>\n",
       "      <td>0</td>\n",
       "    </tr>\n",
       "    <tr>\n",
       "      <th>3.0</th>\n",
       "      <td>8</td>\n",
       "    </tr>\n",
       "    <tr>\n",
       "      <th>4.0</th>\n",
       "      <td>19</td>\n",
       "    </tr>\n",
       "    <tr>\n",
       "      <th>5.0</th>\n",
       "      <td>38</td>\n",
       "    </tr>\n",
       "    <tr>\n",
       "      <th>6.0</th>\n",
       "      <td>63</td>\n",
       "    </tr>\n",
       "    <tr>\n",
       "      <th>7.0</th>\n",
       "      <td>91</td>\n",
       "    </tr>\n",
       "    <tr>\n",
       "      <th>8.0</th>\n",
       "      <td>119</td>\n",
       "    </tr>\n",
       "    <tr>\n",
       "      <th>9.0</th>\n",
       "      <td>132</td>\n",
       "    </tr>\n",
       "    <tr>\n",
       "      <th>10.0</th>\n",
       "      <td>130</td>\n",
       "    </tr>\n",
       "    <tr>\n",
       "      <th>11.0</th>\n",
       "      <td>58</td>\n",
       "    </tr>\n",
       "    <tr>\n",
       "      <th>12.0</th>\n",
       "      <td>4</td>\n",
       "    </tr>\n",
       "  </tbody>\n",
       "</table>\n",
       "</div>"
      ],
      "text/plain": [
       "           flag_tsunami\n",
       "intensity              \n",
       "2.0                   0\n",
       "3.0                   8\n",
       "4.0                  19\n",
       "5.0                  38\n",
       "6.0                  63\n",
       "7.0                  91\n",
       "8.0                 119\n",
       "9.0                 132\n",
       "10.0                130\n",
       "11.0                 58\n",
       "12.0                  4"
      ]
     },
     "execution_count": 129,
     "metadata": {},
     "output_type": "execute_result"
    }
   ],
   "source": [
    "data_to_plot = subset.groupby('intensity').sum()\n",
    "data_to_plot"
   ]
  },
  {
   "cell_type": "code",
   "execution_count": 130,
   "metadata": {},
   "outputs": [
    {
     "data": {
      "image/png": "[encoded data removed]",
      "text/plain": [
       "<Figure size 864x648 with 1 Axes>"
      ]
     },
     "metadata": {
      "needs_background": "light"
     },
     "output_type": "display_data"
    }
   ],
   "source": [
    "plt.figure(figsize=(12,9))\n",
    "plt.bar(x=data_to_plot.index, height=data_to_plot.flag_tsunami)\n",
    "plt.xlabel('Earthquake intensity')\n",
    "plt.ylabel('No. of tsunamis')\n",
    "plt.show()"
   ]
  }
 ],
 "metadata": {
  "kernelspec": {
   "display_name": "Python 3",
   "language": "python",
   "name": "python3"
  },
  "language_info": {
   "codemirror_mode": {
    "name": "ipython",
    "version": 3
   },
   "file_extension": ".py",
   "mimetype": "text/x-python",
   "name": "python",
   "nbconvert_exporter": "python",
   "pygments_lexer": "ipython3",
   "version": "3.6.9"
  }
 },
 "nbformat": 4,
 "nbformat_minor": 2
}
